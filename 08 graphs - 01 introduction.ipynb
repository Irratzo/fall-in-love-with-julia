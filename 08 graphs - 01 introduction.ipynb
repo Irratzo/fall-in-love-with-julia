{
 "cells": [
  {
   "cell_type": "markdown",
   "id": "cb9e00ab",
   "metadata": {},
   "source": [
    "[![Binder](https://mybinder.org/badge_logo.svg)](https://mybinder.org/v2/gh/schlichtanders/fall-in-love-with-julia/main?filepath=08%20graphs%20-%2001%20introduction.ipynb)"
   ]
  },
  {
   "cell_type": "markdown",
   "id": "0dae2b4a",
   "metadata": {},
   "source": [
    "<a href=\"https://www.jolin.io\" target=\"_blank\" rel=\"noreferrer noopener\">\n",
    "<img src=\"https://www.jolin.io/assets/Jolin/Jolin-Banner-Website-v1.1-darkmode.webp\">\n",
    "</a>"
   ]
  },
  {
   "cell_type": "markdown",
   "id": "e1bd5ef3",
   "metadata": {},
   "source": [
    "# Fall-in-love-with-Julia: Graphs in Julia with Graphs.jl\n",
    "\n",
    "a 101 introduction session"
   ]
  },
  {
   "cell_type": "code",
   "execution_count": null,
   "id": "00075b88",
   "metadata": {},
   "outputs": [],
   "source": [
    "using Random; Random.seed!(2022);  # make sure this tutorial is reproducible"
   ]
  },
  {
   "cell_type": "markdown",
   "id": "7f6cb2f2",
   "metadata": {},
   "source": [
    "# Graphs.jl - Introduction\n",
    "\n",
    "\"The project goal is to mirror the functionality of robust network and graph analysis libraries such as NetworkX.\" (https://github.com/JuliaGraphs/Graphs.jl)\n",
    "\n",
    "In this introductory notebook we are going to look into how to construct and inspect Graphs.\n",
    "\n",
    "<img src=\"https://juliagraphs.org/Graphs.jl/dev/assets/logo.png\" width=\"30%\">"
   ]
  },
  {
   "cell_type": "markdown",
   "id": "76d1caaf",
   "metadata": {},
   "source": [
    "### What Graphs.jl does:\n",
    "- defines Graph structure\n",
    "- undirected graphs `Graph` and directeted graphs `DiGraph` \n",
    "\n",
    "### What Graphs.jl does not:\n",
    "- stores attributes and other information - these should be stored outside of the graph itself"
   ]
  },
  {
   "cell_type": "code",
   "execution_count": null,
   "id": "65c218ab",
   "metadata": {},
   "outputs": [],
   "source": [
    "using Graphs, GraphPlot"
   ]
  },
  {
   "cell_type": "markdown",
   "id": "91158f4e",
   "metadata": {},
   "source": [
    "# add_vertices! & add_edge!"
   ]
  },
  {
   "cell_type": "code",
   "execution_count": null,
   "id": "d2dd98c3",
   "metadata": {},
   "outputs": [],
   "source": [
    "G1 = Graph(1, 0) # graph with 1 vertices and 0 edges"
   ]
  },
  {
   "cell_type": "code",
   "execution_count": null,
   "id": "f417250a",
   "metadata": {},
   "outputs": [],
   "source": [
    "add_vertices!(G1, 2)  # be careful, add_vertices is not idempotent!\n",
    "G1 # graph with 3 vertices and 0 edges"
   ]
  },
  {
   "cell_type": "code",
   "execution_count": null,
   "id": "e1847e76",
   "metadata": {},
   "outputs": [],
   "source": [
    "# Make a line\n",
    "add_edge!(G1, 1, 2)\n",
    "add_edge!(G1, 1, 3)\n",
    "G1 # graph with 3 vertices and 2 edges"
   ]
  },
  {
   "cell_type": "code",
   "execution_count": null,
   "id": "5f7b5fe9",
   "metadata": {},
   "outputs": [],
   "source": [
    "gplot(G1, nodelabel=1:3)"
   ]
  },
  {
   "cell_type": "code",
   "execution_count": null,
   "id": "f90cdb6e",
   "metadata": {},
   "outputs": [],
   "source": [
    "G1[[Edge(1,3)]]"
   ]
  },
  {
   "cell_type": "markdown",
   "id": "b0b37365",
   "metadata": {},
   "source": [
    "### Graph implementation details\n",
    "\n",
    "don't use this, but still enlightening"
   ]
  },
  {
   "cell_type": "code",
   "execution_count": null,
   "id": "97529ef9",
   "metadata": {},
   "outputs": [],
   "source": [
    "fieldnames(typeof(G1))"
   ]
  },
  {
   "cell_type": "code",
   "execution_count": null,
   "id": "ca860290",
   "metadata": {},
   "outputs": [],
   "source": [
    "G1.ne"
   ]
  },
  {
   "cell_type": "code",
   "execution_count": null,
   "id": "74fbb428",
   "metadata": {},
   "outputs": [],
   "source": [
    "G1.fadjlist"
   ]
  },
  {
   "cell_type": "markdown",
   "id": "0e61f4c5",
   "metadata": {},
   "source": [
    "### Graph properties"
   ]
  },
  {
   "cell_type": "code",
   "execution_count": null,
   "id": "d5819704",
   "metadata": {
    "scrolled": true
   },
   "outputs": [],
   "source": [
    "neighbors(G1, 1)"
   ]
  },
  {
   "cell_type": "code",
   "execution_count": null,
   "id": "b0e2dc5c",
   "metadata": {},
   "outputs": [],
   "source": [
    "common_neighbors(G1, 2, 3)"
   ]
  },
  {
   "cell_type": "code",
   "execution_count": null,
   "id": "91e9585e",
   "metadata": {},
   "outputs": [],
   "source": [
    "degree(G1, 1)"
   ]
  },
  {
   "cell_type": "code",
   "execution_count": null,
   "id": "f9640c31",
   "metadata": {},
   "outputs": [],
   "source": [
    "@show ne(G1)\n",
    "@show nv(G1)\n",
    "\n",
    "gplot(G1, nodelabel=1:nv(G1), edgelabel=1:ne(G1))"
   ]
  },
  {
   "cell_type": "code",
   "execution_count": null,
   "id": "60e3541b",
   "metadata": {},
   "outputs": [],
   "source": [
    "@show [vertices(G1)...];\n",
    "@show [edges(G1)...];"
   ]
  },
  {
   "cell_type": "code",
   "execution_count": null,
   "id": "d10dc40e",
   "metadata": {},
   "outputs": [],
   "source": [
    "incidence_matrix(G1)"
   ]
  },
  {
   "cell_type": "code",
   "execution_count": null,
   "id": "3f445797",
   "metadata": {},
   "outputs": [],
   "source": [
    "adjacency_matrix(G1)"
   ]
  },
  {
   "cell_type": "code",
   "execution_count": null,
   "id": "3b343529",
   "metadata": {},
   "outputs": [],
   "source": [
    "laplacian_matrix(G1)"
   ]
  },
  {
   "cell_type": "markdown",
   "id": "7f8e1a77",
   "metadata": {},
   "source": [
    "documentation of more properties see\n",
    "- https://juliagraphs.org/Graphs.jl/dev/basicproperties/ \n",
    "- https://docs.juliahub.com/Graphs/VJ6vx/1.4.0/core/"
   ]
  },
  {
   "cell_type": "markdown",
   "id": "d1b420c4",
   "metadata": {},
   "source": [
    "## 💪 it is your turn: Make a triangle\n",
    "\n",
    "transform G1 so that it becomes a triangle"
   ]
  },
  {
   "cell_type": "code",
   "execution_count": null,
   "id": "9696a807",
   "metadata": {},
   "outputs": [],
   "source": [
    "# ..."
   ]
  },
  {
   "cell_type": "markdown",
   "id": "f1d5761e",
   "metadata": {},
   "source": [
    "# Adjacency matrix & rem_vertex!"
   ]
  },
  {
   "cell_type": "code",
   "execution_count": null,
   "id": "6187ef76",
   "metadata": {},
   "outputs": [],
   "source": [
    "A = [\n",
    "    0 1 1\n",
    "    1 0 1\n",
    "    1 1 0\n",
    "]\n",
    "G2 = Graph(A)\n",
    "gplot(G2, nodelabel=1:nv(G2), edgelabel=1:ne(G2))"
   ]
  },
  {
   "cell_type": "code",
   "execution_count": null,
   "id": "83b5a3a9",
   "metadata": {},
   "outputs": [],
   "source": [
    "G1 == G2"
   ]
  },
  {
   "cell_type": "code",
   "execution_count": null,
   "id": "0d1b72fb",
   "metadata": {},
   "outputs": [],
   "source": [
    "rem_vertex!(G2, 1)\n",
    "gplot(G2, nodelabel=1:nv(G2), edgelabel=1:ne(G2))"
   ]
  },
  {
   "cell_type": "markdown",
   "id": "5aaa9893",
   "metadata": {},
   "source": [
    "Caution: If removing vertices, the vertex numbers are re-ordered!\n",
    "\n",
    "If you want to link data to the graph, make sure you use `MetaGraph` from [MetaGraphs.jl](https://github.com/JuliaGraphs/MetaGraphs.jl)"
   ]
  },
  {
   "cell_type": "markdown",
   "id": "3e4856f6",
   "metadata": {},
   "source": [
    "# Create random graphs"
   ]
  },
  {
   "cell_type": "code",
   "execution_count": null,
   "id": "aee20fcc",
   "metadata": {},
   "outputs": [],
   "source": [
    "gplot(Graph(4, 3), nodelabel=1:4)"
   ]
  },
  {
   "cell_type": "code",
   "execution_count": null,
   "id": "7a4b8d34",
   "metadata": {},
   "outputs": [],
   "source": [
    "gplot(DiGraph(4, 6), nodelabel=1:4)"
   ]
  },
  {
   "cell_type": "code",
   "execution_count": null,
   "id": "f0b29b40",
   "metadata": {},
   "outputs": [],
   "source": [
    "gplot(smallgraph(\"house\"))"
   ]
  },
  {
   "cell_type": "markdown",
   "id": "03259d78",
   "metadata": {},
   "source": [
    "## 💪 it is your turn: Plot another smallgraph\n",
    "\n",
    "you may want to take a look at the documentation of `smallgraph` by typing `?smallgraph`"
   ]
  },
  {
   "cell_type": "code",
   "execution_count": null,
   "id": "bbe3e1ed",
   "metadata": {},
   "outputs": [],
   "source": [
    "# ..."
   ]
  },
  {
   "cell_type": "markdown",
   "id": "c423c264",
   "metadata": {},
   "source": [
    "some other random plots"
   ]
  },
  {
   "cell_type": "code",
   "execution_count": null,
   "id": "6086b1f9",
   "metadata": {},
   "outputs": [],
   "source": [
    "gplot(complete_digraph(5))"
   ]
  },
  {
   "cell_type": "code",
   "execution_count": null,
   "id": "1ef3becb",
   "metadata": {},
   "outputs": [],
   "source": [
    "gplot(clique_graph(3, 4))"
   ]
  },
  {
   "cell_type": "markdown",
   "id": "1dd8e24f",
   "metadata": {},
   "source": [
    "There are many many more **generators** for graphs. All documented at https://juliagraphs.org/Graphs.jl/dev/generators/#Graph-Generators"
   ]
  },
  {
   "cell_type": "markdown",
   "id": "c7ef2e92",
   "metadata": {},
   "source": [
    "# Operators - a set-like interface\n",
    "\n",
    "The current documentation of Operators seems corrupt, better take a look at a previous version: https://docs.juliahub.com/Graphs/VJ6vx/1.4.0/operators/"
   ]
  },
  {
   "cell_type": "code",
   "execution_count": null,
   "id": "cae6fde9",
   "metadata": {},
   "outputs": [],
   "source": [
    "regular = random_regular_graph(3, 2)\n",
    "display(gplot(regular))\n",
    "\n",
    "tree = binary_tree(3)\n",
    "display(gplot(tree))\n",
    "\n",
    "gplot(cartesian_product(regular, tree))"
   ]
  },
  {
   "cell_type": "code",
   "execution_count": null,
   "id": "de083012",
   "metadata": {},
   "outputs": [],
   "source": [
    "gplot(blockdiag(path_graph(3), path_graph(2)))"
   ]
  },
  {
   "cell_type": "markdown",
   "id": "c5c780b0",
   "metadata": {},
   "source": [
    "## 💪 it is your turn: Combine blockdiag (can be seen as sum) and cartesian_product\n",
    "\n",
    "and see how the graph adapts respectively"
   ]
  },
  {
   "cell_type": "code",
   "execution_count": null,
   "id": "41180562",
   "metadata": {},
   "outputs": [],
   "source": [
    "# ..."
   ]
  },
  {
   "cell_type": "markdown",
   "id": "7f226159",
   "metadata": {},
   "source": [
    "### some other graph operators"
   ]
  },
  {
   "cell_type": "code",
   "execution_count": null,
   "id": "a4a49df0",
   "metadata": {},
   "outputs": [],
   "source": [
    "gplot(tensor_product(path_graph(3), random_regular_graph(3, 2)))"
   ]
  },
  {
   "cell_type": "code",
   "execution_count": null,
   "id": "e4425e2e",
   "metadata": {},
   "outputs": [],
   "source": [
    "gplot(complement(path_graph(5)))"
   ]
  },
  {
   "cell_type": "markdown",
   "id": "b42ee461",
   "metadata": {},
   "source": [
    "And many more, like `egonet`, `induced_subgraph`, ... See https://docs.juliahub.com/Graphs/VJ6vx/1.4.0/operators/"
   ]
  },
  {
   "cell_type": "markdown",
   "id": "8815e948",
   "metadata": {},
   "source": [
    "# Reading/writing graphs"
   ]
  },
  {
   "cell_type": "code",
   "execution_count": null,
   "id": "b80798f6",
   "metadata": {},
   "outputs": [],
   "source": [
    "saveme = erdos_renyi(5, 0.3)\n",
    "gplot(saveme)"
   ]
  },
  {
   "cell_type": "code",
   "execution_count": null,
   "id": "fbbd8b71",
   "metadata": {},
   "outputs": [],
   "source": [
    "savegraph(\"mygraph.lgz\", saveme)  # z = compressed, lg=LightGraph"
   ]
  },
  {
   "cell_type": "code",
   "execution_count": null,
   "id": "dad8bbdb",
   "metadata": {},
   "outputs": [],
   "source": [
    "gplot(loadgraph(\"mygraph.lgz\"))"
   ]
  },
  {
   "cell_type": "code",
   "execution_count": null,
   "id": "a26ce372",
   "metadata": {},
   "outputs": [],
   "source": [
    ";cat \"mygraph.lgz\""
   ]
  },
  {
   "cell_type": "markdown",
   "id": "93d47005",
   "metadata": {},
   "source": [
    "### Other graph formats\n",
    "\n",
    "[GraphIO.jl](https://github.com/JuliaGraphs/GraphIO.jl) supports reading EdgeList, GML, Graph6, GraphML, Pajek NET, DOT and CDF files."
   ]
  },
  {
   "cell_type": "code",
   "execution_count": null,
   "id": "1c48d44c",
   "metadata": {},
   "outputs": [],
   "source": [
    "gml = \"\"\"\n",
    "graph [\n",
    "    comment \"This is a sample graph\"\n",
    "    directed 1\n",
    "    id 42\n",
    "    node [\n",
    "        id 1\n",
    "        label \"node 1\"\n",
    "        thisIsASampleAttribute 42\n",
    "    ]\n",
    "    node [\n",
    "        id 2\n",
    "        label \"node 2\"\n",
    "        thisIsASampleAttribute 43\n",
    "    ]\n",
    "    node [\n",
    "        id 3\n",
    "        label \"node 3\"\n",
    "        thisIsASampleAttribute 44\n",
    "    ]\n",
    "    edge [\n",
    "        source 1\n",
    "        target 2\n",
    "        label \"Edge from node 1 to node 2\"\n",
    "    ]\n",
    "    edge [\n",
    "        source 2\n",
    "        target 3\n",
    "        label \"Edge from node 2 to node 3\"\n",
    "    ]\n",
    "    edge [\n",
    "        source 3\n",
    "        target 1\n",
    "        label \"Edge from node 3 to node 1\"\n",
    "    ]\n",
    "]\n",
    "\"\"\"\n",
    "\n",
    "open(\"mygraph.gml\", \"w\") do io\n",
    "   write(io, gml)\n",
    "end;"
   ]
  },
  {
   "cell_type": "code",
   "execution_count": null,
   "id": "a2479000",
   "metadata": {},
   "outputs": [],
   "source": [
    "import GraphIO  # Graph6 NET Edgelist and CDF work out of the box\n",
    "import ParserCombinator  # needed in addition for DOT or GML\n",
    "# import CodecZlib  # needed for LGCompressed\n",
    "# import EzXML  # needed for GEXF and GraphML\n",
    "\n",
    "gplot(loadgraph(\"mygraph.gml\", \"digraph\", GraphIO.GMLFormat()))\n",
    "# IMPORTANT! \"digraph\" because of directed graph"
   ]
  },
  {
   "cell_type": "code",
   "execution_count": null,
   "id": "92e92903",
   "metadata": {},
   "outputs": [],
   "source": [
    "dot = \"\"\"\n",
    "digraph mygraph {\n",
    "    a -> b -> c;\n",
    "    b -> d;\n",
    "}\n",
    "\"\"\"\n",
    "\n",
    "open(\"mygraph.dot\", \"w\") do io\n",
    "   write(io, dot)\n",
    "end;"
   ]
  },
  {
   "cell_type": "code",
   "execution_count": null,
   "id": "d3b1b75c",
   "metadata": {},
   "outputs": [],
   "source": [
    "# it is important that the graph is named\n",
    "gplot(loadgraph(\"mygraph.dot\", \"mygraph\", GraphIO.DOTFormat()))"
   ]
  },
  {
   "cell_type": "markdown",
   "id": "1e3a1c92",
   "metadata": {},
   "source": [
    "Many graph file formats have some special pecularities. In case something does not work out of the box, the best documentation available for GraphIO are the test runs.\n",
    "Find them at https://github.com/JuliaGraphs/GraphIO.jl/tree/master/test"
   ]
  },
  {
   "cell_type": "markdown",
   "id": "316f7234",
   "metadata": {},
   "source": [
    "----\n",
    "\n",
    "# Full example - global cascades on random networks\n",
    "\n",
    "Simple simulation how easy it for a post to go viral in a network. Known as Watts-model.\n",
    "Adapted from here https://nbviewer.org/github/JuliaGraphs/JuliaGraphsTutorials/blob/master/Watts-Model.ipynb"
   ]
  },
  {
   "cell_type": "code",
   "execution_count": null,
   "id": "3348c505",
   "metadata": {},
   "outputs": [],
   "source": [
    "\"\"\"\n",
    "Computes the fraction of neighbors engaged within the neighborhood\n",
    "of a given node.\n",
    "\"\"\"\n",
    "function fraction_engaged(node::Int,\n",
    "                          G::Graph,\n",
    "                          engagement::BitVector)\n",
    "    num_engaged_neighbors = 0\n",
    "    for nbr in neighbors(G, node)\n",
    "        if engagement[nbr] == true\n",
    "            num_engaged_neighbors += 1\n",
    "        end\n",
    "    end\n",
    "    return num_engaged_neighbors / length(neighbors(G, node))\n",
    "end"
   ]
  },
  {
   "cell_type": "code",
   "execution_count": null,
   "id": "7007f989",
   "metadata": {},
   "outputs": [],
   "source": [
    "\"\"\"\n",
    "Updates the node_status of all vertices, one iteration only.\n",
    "\"\"\"\n",
    "function update_engagement!(G::Graph,\n",
    "                            engagement::BitVector,\n",
    "                            threshold::Float64)\n",
    "    for node in Random.shuffle(vertices(G))\n",
    "        if engagement[node] == false\n",
    "            if fraction_engaged(node, G, engagement) > threshold\n",
    "                engagement[node] = true\n",
    "            end\n",
    "        end\n",
    "    end\n",
    "\n",
    "    return nothing\n",
    "end"
   ]
  },
  {
   "cell_type": "code",
   "execution_count": null,
   "id": "16dcae5b",
   "metadata": {},
   "outputs": [],
   "source": [
    "import StatsBase\n",
    "\"\"\"\n",
    "Executes the simulation\n",
    "\n",
    "Output\n",
    "-----------\n",
    "A vector of number of engaged nodes at the end of each realization\n",
    "of the simulation\n",
    "\n",
    "Hyper Parameters of the model\n",
    "----------\n",
    "1. Number of nodes in the Watts-Strogatz graph (n)\n",
    "2. Average degree (z)\n",
    "3. Threshold (a specific value)\n",
    "4. Time steps for simulation to be run (T)\n",
    "5. Number of realizations\n",
    "\"\"\"\n",
    "function simulation(; n::Int, z::Int, threshold::Float64, T::Int, n_realizations::Int)\n",
    "    output = Vector{Int}(undef, n_realizations)\n",
    "    beta = z/n\n",
    "\n",
    "    for r in 1:n_realizations\n",
    "        G = watts_strogatz(n, z, beta)\n",
    "        # Select a single random node from the network and seed it\n",
    "        engagement = falses(nv(G))\n",
    "        engagement[StatsBase.sample(vertices(G))] = true\n",
    "\n",
    "        # Update the network for predefined number of time steps\n",
    "        for _ in 1:T\n",
    "            update_engagement!(G, engagement, threshold)\n",
    "        end\n",
    "        output[r] = sum(engagement)\n",
    "    end\n",
    "\n",
    "    return output\n",
    "end"
   ]
  },
  {
   "cell_type": "code",
   "execution_count": null,
   "id": "867c0748",
   "metadata": {},
   "outputs": [],
   "source": [
    "n = 10^4\n",
    "z = 5\n",
    "threshold = 0.18\n",
    "T = 50\n",
    "n_realizations = 100"
   ]
  },
  {
   "cell_type": "code",
   "execution_count": null,
   "id": "d28b5327",
   "metadata": {},
   "outputs": [],
   "source": [
    "beta = z/n\n",
    "gplot(watts_strogatz(n, z, beta))"
   ]
  },
  {
   "cell_type": "code",
   "execution_count": null,
   "id": "003fae1c",
   "metadata": {},
   "outputs": [],
   "source": [
    "data1 = simulation(; n, z, threshold, T, n_realizations)\n",
    "histogram(data1, xlab=\"Number of engaged nodes\", ylab=\"Frequency\", legend=false)"
   ]
  },
  {
   "cell_type": "code",
   "execution_count": null,
   "id": "ff1d947e",
   "metadata": {},
   "outputs": [],
   "source": [
    "z2 = 6;  # +1"
   ]
  },
  {
   "cell_type": "code",
   "execution_count": null,
   "id": "e75e608b",
   "metadata": {},
   "outputs": [],
   "source": [
    "data2 = simulation(; n, z=z2, threshold, T, n_realizations);\n",
    "histogram(data2, xlab=\"Number of engaged nodes\", ylab=\"Frequency\", legend=false)"
   ]
  },
  {
   "cell_type": "markdown",
   "id": "eb502dce",
   "metadata": {},
   "source": [
    "As can be seen from these two graphs, no global cascade occurs in the second case, while there are a few in the first! It is remarkable that just increasing the average degree of the network by 1 changes the entire outcome of the diffusion process.\n",
    "\n",
    "The code presented here can be used to reproduce all the results discussed in Watts (2002)."
   ]
  },
  {
   "cell_type": "markdown",
   "id": "02f7cb7f",
   "metadata": {},
   "source": [
    "## 💪 it is your turn: Play with the above hyperparameters\n",
    "\n",
    "and see how the results change"
   ]
  },
  {
   "cell_type": "markdown",
   "id": "4b686c55",
   "metadata": {},
   "source": [
    "----\n",
    "\n",
    "# Take a look at part II - Graphs.jl Computation\n",
    "\n",
    "[![Binder](https://mybinder.org/badge_logo.svg)](https://mybinder.org/v2/gh/schlichtanders/fall-in-love-with-julia/main?filepath=08%20graphs%20-%2002%20computation.ipynb)"
   ]
  },
  {
   "cell_type": "markdown",
   "id": "cdfe3167",
   "metadata": {},
   "source": [
    "# Thank you for joining\n",
    "\n",
    "for questions or suggestions please contact me at stephan.sahm@jolin.io"
   ]
  },
  {
   "cell_type": "markdown",
   "id": "719aa1f3",
   "metadata": {},
   "source": [
    "<a href=\"https://www.jolin.io\" target=\"_blank\" rel=\"noreferrer noopener\">\n",
    "<img src=\"https://www.jolin.io/assets/Jolin/Jolin-Banner-Website-v1.1-darkmode.webp\">\n",
    "</a>"
   ]
  }
 ],
 "metadata": {
  "kernelspec": {
   "display_name": "Julia 1.7.1",
   "language": "julia",
   "name": "julia-1.7"
  },
  "language_info": {
   "file_extension": ".jl",
   "mimetype": "application/julia",
   "name": "julia",
   "version": "1.7.1"
  }
 },
 "nbformat": 4,
 "nbformat_minor": 5
}
