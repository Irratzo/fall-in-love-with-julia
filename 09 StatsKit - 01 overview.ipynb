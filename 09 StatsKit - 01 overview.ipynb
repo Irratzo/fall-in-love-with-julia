{
 "cells": [
  {
   "cell_type": "markdown",
   "id": "6bab6bd4",
   "metadata": {},
   "source": [
    "[![Binder](https://mybinder.org/badge_logo.svg)](https://mybinder.org/v2/gh/jolin-io/fall-in-love-with-julia/main?filepath=09%20StatsKit%20-%2001%20overview.ipynb)"
   ]
  },
  {
   "cell_type": "markdown",
   "id": "fbaede73",
   "metadata": {},
   "source": [
    "<a href=\"https://www.jolin.io\" target=\"_blank\" rel=\"noreferrer noopener\">\n",
    "<img src=\"https://www.jolin.io/assets/Jolin/Jolin-Banner-Website-v1.1-darkmode.webp\">\n",
    "</a>"
   ]
  },
  {
   "cell_type": "markdown",
   "id": "35c85b7f",
   "metadata": {},
   "source": [
    "# Fall-in-love-with-Julia: Statistics & co with JuliaStats & StatsKit.jl\n",
    "\n",
    "a 101 introduction session"
   ]
  },
  {
   "cell_type": "code",
   "execution_count": null,
   "id": "0d027170",
   "metadata": {},
   "outputs": [],
   "source": [
    "using Random; Random.seed!(2022);  # make sure this tutorial is reproducible"
   ]
  },
  {
   "cell_type": "markdown",
   "id": "04ef4a0d",
   "metadata": {},
   "source": [
    "from https://github.com/JuliaStats/StatsKit.jl\n",
    "\n",
    "StatsKit.jl\n",
    "========\n",
    "\n",
    "  [![Build status](https://github.com/JuliaStats/StatsKit.jl/workflows/CI/badge.svg)](https://github.com/JuliaStats/StatsKit.jl/actions?query=workflow%3ACI+branch%3Amaster)\n",
    "\n",
    "This is a convenience meta-package which allows loading essential packages for statistics in one command:\n",
    "```julia\n",
    "using StatsKit\n",
    "```\n",
    "\n",
    "Currently this loads the [Statistics](https://docs.julialang.org/en/stable/stdlib/Statistics/)\n",
    "standard library module, and the following packages:\n",
    "\n",
    "* [Bootstrap](https://github.com/juliangehring/Bootstrap.jl)\n",
    "* [CategoricalArrays](https://github.com/JuliaData/CategoricalArrays.jl)\n",
    "* [Clustering](https://github.com/JuliaStats/Clustering.jl)\n",
    "* [CSV](https://github.com/JuliaData/CSV.jl)\n",
    "* [DataFrames](https://github.com/JuliaData/DataFrames.jl)\n",
    "* [Distances](https://github.com/JuliaStats/Distances.jl)\n",
    "* [Distributions](https://github.com/JuliaStats/Distributions.jl)\n",
    "* [GLM](https://github.com/JuliaStats/GLM.jl)\n",
    "* [HypothesisTests](https://github.com/JuliaStats/HypothesisTests.jl)\n",
    "* [KernelDensity](https://github.com/JuliaStats/KernelDensity.jl)\n",
    "* [Loess](https://github.com/JuliaStats/Loess.jl)\n",
    "* [MultivariateStats](https://github.com/JuliaStats/MultivariateStats.jl)\n",
    "* [MixedModels](https://github.com/JuliaStats/MixedModels.jl)\n",
    "* [StatsBase](https://github.com/JuliaStats/StatsBase.jl)\n",
    "* [ShiftedArrays](https://github.com/JuliaArrays/ShiftedArrays.jl)\n",
    "* [TimeSeries](https://github.com/JuliaStats/TimeSeries.jl)\n",
    "\n",
    "This package is intended for users of statistics packages who want to get started with one import. Packages themselves should continue\n",
    "to list individual packages in they dependencies rather than `StatsKit` as a whole.\n"
   ]
  },
  {
   "cell_type": "markdown",
   "id": "1f4686c0",
   "metadata": {},
   "source": [
    "# helpful statistic data types"
   ]
  },
  {
   "cell_type": "markdown",
   "id": "5681bb74",
   "metadata": {},
   "source": [
    "## missing\n",
    "\n",
    "It is like NaN, but better, because it cannot be accidently result from float computations."
   ]
  },
  {
   "cell_type": "code",
   "execution_count": null,
   "id": "00d0b0aa",
   "metadata": {},
   "outputs": [],
   "source": [
    "missing == missing"
   ]
  },
  {
   "cell_type": "code",
   "execution_count": null,
   "id": "6333c2b6",
   "metadata": {},
   "outputs": [],
   "source": [
    "missing + 1"
   ]
  },
  {
   "cell_type": "code",
   "execution_count": null,
   "id": "31c44b89",
   "metadata": {},
   "outputs": [],
   "source": [
    "2 * missing"
   ]
  },
  {
   "cell_type": "code",
   "execution_count": null,
   "id": "c1086053",
   "metadata": {},
   "outputs": [],
   "source": [
    "using Statistics"
   ]
  },
  {
   "cell_type": "code",
   "execution_count": null,
   "id": "cfbf1442",
   "metadata": {},
   "outputs": [],
   "source": [
    "mean([missing, 2, 10])"
   ]
  },
  {
   "cell_type": "code",
   "execution_count": null,
   "id": "e386c046",
   "metadata": {},
   "outputs": [],
   "source": [
    "mean(skipmissing([missing, 2, 10]))"
   ]
  },
  {
   "cell_type": "markdown",
   "id": "dddad541",
   "metadata": {},
   "source": [
    "does the right thing almost magically"
   ]
  },
  {
   "cell_type": "code",
   "execution_count": null,
   "id": "cde7118e",
   "metadata": {},
   "outputs": [],
   "source": [
    "u = [missing, 2, 3]\n",
    "v = skipmissing(u)\n",
    "w = collect(v)\n",
    "@show u v w;"
   ]
  },
  {
   "cell_type": "code",
   "execution_count": null,
   "id": "bc951351",
   "metadata": {},
   "outputs": [],
   "source": [
    "findfirst(x -> x == 2, u)"
   ]
  },
  {
   "cell_type": "code",
   "execution_count": null,
   "id": "ca55926a",
   "metadata": {},
   "outputs": [],
   "source": [
    "findfirst(x -> x == 2, v)"
   ]
  },
  {
   "cell_type": "code",
   "execution_count": null,
   "id": "ba0dd157",
   "metadata": {},
   "outputs": [],
   "source": [
    "findfirst(x -> x == 2, w)"
   ]
  },
  {
   "cell_type": "markdown",
   "id": "70ef59e7",
   "metadata": {},
   "source": [
    "Some extra utils can be found in [Missings.jl](https://github.com/JuliaData/Missings.jl)"
   ]
  },
  {
   "cell_type": "markdown",
   "id": "c6a7647f",
   "metadata": {},
   "source": [
    "## CategoricalArrays.jl"
   ]
  },
  {
   "cell_type": "code",
   "execution_count": null,
   "id": "27b7b501",
   "metadata": {},
   "outputs": [],
   "source": [
    "using CategoricalArrays\n",
    "\n",
    "x = CategoricalArray([\"Old\", \"Young\", \"Middle\", \"Young\"], ordered=true)"
   ]
  },
  {
   "cell_type": "code",
   "execution_count": null,
   "id": "a0839b8f",
   "metadata": {},
   "outputs": [],
   "source": [
    "x[1]"
   ]
  },
  {
   "cell_type": "code",
   "execution_count": null,
   "id": "348bc396",
   "metadata": {},
   "outputs": [],
   "source": [
    "unwrap(x[1])"
   ]
  },
  {
   "cell_type": "code",
   "execution_count": null,
   "id": "8d25fac0",
   "metadata": {},
   "outputs": [],
   "source": [
    "x[1] = \"Middle\""
   ]
  },
  {
   "cell_type": "code",
   "execution_count": null,
   "id": "3624b764",
   "metadata": {},
   "outputs": [],
   "source": [
    "x[1]"
   ]
  },
  {
   "cell_type": "code",
   "execution_count": null,
   "id": "2276366c",
   "metadata": {},
   "outputs": [],
   "source": [
    "levels(x)"
   ]
  },
  {
   "cell_type": "markdown",
   "id": "b860c353",
   "metadata": {},
   "source": [
    "## 👉 your time \n",
    "\n",
    "Change the value of `x[1]` to `\"VeryOld\"` or any other String not yet in the array.\n",
    "\n",
    "What do you expect happens? Take a look at `levels`."
   ]
  },
  {
   "cell_type": "code",
   "execution_count": null,
   "id": "50130fe2",
   "metadata": {},
   "outputs": [],
   "source": [
    "# your space"
   ]
  },
  {
   "cell_type": "markdown",
   "id": "23cd6c8a",
   "metadata": {},
   "source": [
    "# Statistics.jl (builtin)\n",
    "\n",
    "https://docs.julialang.org/en/v1/stdlib/Statistics/\n",
    "\n",
    "| function | description |\n",
    "| -------- | ----------- |\n",
    "| `var`    | variance    |\n",
    "| `std`    | standard deviation |\n",
    "| `mean`   | average     |\n",
    "| `median` | 50% quantile |\n",
    "| `middle` | mean of extremas |\n",
    "| `cor`    | Pearson correlation |\n",
    "| `cor`    | covariance  |\n",
    "| `quantile` | quantiles |\n"
   ]
  },
  {
   "cell_type": "code",
   "execution_count": null,
   "id": "d953cdeb",
   "metadata": {},
   "outputs": [],
   "source": [
    "mean(√, [1, 2, 3])"
   ]
  },
  {
   "cell_type": "code",
   "execution_count": null,
   "id": "c9eb0067",
   "metadata": {},
   "outputs": [],
   "source": [
    "mean([√1, √2, √3])"
   ]
  },
  {
   "cell_type": "code",
   "execution_count": null,
   "id": "8450c088",
   "metadata": {},
   "outputs": [],
   "source": [
    "mean(√,\n",
    "     [1 2 3\n",
    "      4 5 6],\n",
    "     dims=2)"
   ]
  },
  {
   "cell_type": "code",
   "execution_count": null,
   "id": "61acaa88",
   "metadata": {},
   "outputs": [],
   "source": [
    "using Plots"
   ]
  },
  {
   "cell_type": "code",
   "execution_count": null,
   "id": "38643e57",
   "metadata": {},
   "outputs": [],
   "source": [
    "randfactor = 1\n",
    "\n",
    "x1 = collect(1:10) + randfactor*rand(10)\n",
    "x2 = collect(1:10) + randfactor*rand(10)\n",
    "plot(x1)\n",
    "plot!(x2)"
   ]
  },
  {
   "cell_type": "markdown",
   "id": "dd83cbdf",
   "metadata": {},
   "source": [
    "Covariance definition\n",
    "\n",
    "$$\n",
    "\\text{cov}(X, Y) = \\frac{1}{n - 1} \\sum^n_{i=1}(x_i - \\text{mean}(X))(y_i - \\text{mean}(Y))\n",
    "$$\n",
    "\n",
    "Pearson correlation is a normalized covariance\n",
    "\n",
    "$$\n",
    "\\text{cor}(X, Y) = \\frac{\\text{cov}(X, Y)}{\\text{std}(X)\\text{std}(Y)}\n",
    "$$"
   ]
  },
  {
   "cell_type": "code",
   "execution_count": null,
   "id": "fdae6817",
   "metadata": {},
   "outputs": [],
   "source": [
    "@show cor(x1, x2)\n",
    "@show cov(x1, x2)\n",
    "@show cov(x1, x2)/(std(x1)std(x2))"
   ]
  },
  {
   "cell_type": "code",
   "execution_count": null,
   "id": "8e5917ee",
   "metadata": {},
   "outputs": [],
   "source": [
    "cor([1,2,3], [21, 25, 29])"
   ]
  },
  {
   "cell_type": "code",
   "execution_count": null,
   "id": "93d04fee",
   "metadata": {},
   "outputs": [],
   "source": [
    "cor([1  1.0  10  8\n",
    "     2  1.1   0  6\n",
    "     3  0.9   5  4])"
   ]
  },
  {
   "cell_type": "markdown",
   "id": "ed7e343d",
   "metadata": {},
   "source": [
    "# StatsBase.jl\n",
    "\n",
    "https://juliastats.org/StatsBase.jl/stable/\n",
    "\n",
    "Key addition to builtin Statistics package:\n",
    "\n",
    "- All functions support weights\n",
    "\n",
    "| 1-D statistics | description |\n",
    "| -------- | ----------- |\n",
    "| `geomean`    | geometric mean    |\n",
    "| `harmean`    | harmonic mean |\n",
    "| `genmean`   | mean with generalized power |\n",
    "| `skewness` | skewness |\n",
    "| `kurtosis` | kurtosis |\n",
    "| `moment`    | central moment of arbitrary order |\n",
    "| `variation`    | ratio of the standard deviation to the mean  |\n",
    "| `sem` | standard error of mean |\n",
    "| `mad` | median absolute deviation <br> MAD is to median like variance is to mean |\n",
    "| `zscore` | zscore |\n",
    "| `percentile` | like `Statistics.quantile`, but with values from 0 to 100 |\n",
    "| `iqr` | inter quantile range (75% - 25%) |\n",
    "| `nquantile` | splitting the whole range in `n` equal quantiles |\n",
    "| `mode`, `modes` | most common number(s) | \n",
    "\n",
    "| multi-D statistics | description |\n",
    "| -------- | ----------- |\n",
    "| `partialcor` | partial correlation |\n",
    "| `genvar` | generalized variance = determinant of covariance matrix |\n",
    "| `totalvar` | total variance = sum of diagonal of covariance matrix |\n",
    "\n",
    "\n",
    "From Wikipedia: partial correlation\n",
    "![partial correlation drawing](https://upload.wikimedia.org/wikipedia/commons/thumb/9/9e/PartialCorrelationGeometrically.svg/512px-PartialCorrelationGeometrically.svg.png)\n",
    "\n",
    "\n",
    "| counting | description |\n",
    "| -------- | ----------- |\n",
    "| `counts` | counts integer |\n",
    "| `proportions` | frequency of integers |\n",
    "| `countmap` | counts arbitrary things |\n",
    "| `proportionmap` | frequency of arbitrary things |\n",
    "| `ecdf` | empirical cumulative distribution function |\n",
    "| `Histogram` | histogram, see example above | \n",
    "| `levelsmap` | mapping unique values to normalized integer |\n",
    "| `indexmap` | mapping unique values to first index |\n",
    "| `indicatormat` | one-hot-encoding |\n",
    "\n",
    "\n",
    "| probabilities | description |\n",
    "| -------- | ----------- |\n",
    "| `entropy` | entropy of probabilities |\n",
    "| `renyientropy` |  Rényi (generalized) entropy |\n",
    "| `crossentropy` | cross entropy of two probability vectors |\n",
    "| `kldivergence` | Kullback-Leibler divergence |\n",
    "\n",
    "\n",
    "| time series | description |\n",
    "| -------- | ----------- |\n",
    "| `autocor` | autocorrelation, normalized `autocov`, `crosscor` with itself |\n",
    "| `autocov` | autocovariance, `crosscov` with itself |\n",
    "| `crosscor` | cross correlation |\n",
    "| `crosscov` | cross covariance |\n",
    "| `pacf` | partial autocorrelation function <br> (autocorrelation between $z_{t}$ and $z_{t+k}$ <br> that is not accounted for by lags $1$ through $k − 1$)|\n",
    "\n",
    "\n",
    "From Wikipedia:\n",
    "> In signal processing, cross-correlation is a measure of similarity of two series as a function of the displacement of one relative to the other. This is also known as a sliding dot product or sliding inner-product. It is commonly used for searching a long signal for a shorter, known feature.\n",
    "\n",
    "\n",
    "\n",
    "and more\n",
    "- [Robust Statistics](https://juliastats.org/StatsBase.jl/stable/robust/) trim, winsor\n",
    "- [Deviations between two arrays](https://juliastats.org/StatsBase.jl/stable/deviation/) L1dist, L2dist, Linfdist, ...\n",
    "- [Ranking](https://juliastats.org/StatsBase.jl/stable/ranking/) ordinalrank, denserank, ...\n",
    "- [Sampling](https://juliastats.org/StatsBase.jl/stable/sampling/) sample"
   ]
  },
  {
   "cell_type": "code",
   "execution_count": null,
   "id": "fdfa7ee8",
   "metadata": {},
   "outputs": [],
   "source": [
    "using StatsBase"
   ]
  },
  {
   "cell_type": "markdown",
   "id": "8f70bdde",
   "metadata": {},
   "source": [
    "the builtin `Statistics` package is reused as much as possible"
   ]
  },
  {
   "cell_type": "code",
   "execution_count": null,
   "id": "ade49aa7",
   "metadata": {},
   "outputs": [],
   "source": [
    "@which StatsBase.std"
   ]
  },
  {
   "cell_type": "markdown",
   "id": "b30a476a",
   "metadata": {},
   "source": [
    "## summarystats"
   ]
  },
  {
   "cell_type": "code",
   "execution_count": null,
   "id": "227adba3",
   "metadata": {},
   "outputs": [],
   "source": [
    "summarystats(randn(100))"
   ]
  },
  {
   "cell_type": "markdown",
   "id": "8a3f8f55",
   "metadata": {},
   "source": [
    "## Histogram"
   ]
  },
  {
   "cell_type": "code",
   "execution_count": null,
   "id": "77ddf644",
   "metadata": {},
   "outputs": [],
   "source": [
    "# one observation in the small bin and three in the large\n",
    "obs = [0.5, 1.5, 1.5, 2.5];\n",
    "\n",
    "# a small and a large bin\n",
    "bins = [0, 1, 7];"
   ]
  },
  {
   "cell_type": "markdown",
   "id": "282f0d64",
   "metadata": {},
   "source": [
    "observe `isdensity = false` and the `weights` field records the number of observations in each bin"
   ]
  },
  {
   "cell_type": "code",
   "execution_count": null,
   "id": "29fe2d49",
   "metadata": {},
   "outputs": [],
   "source": [
    "h = fit(Histogram, obs, bins)"
   ]
  },
  {
   "cell_type": "markdown",
   "id": "0d2fa44b",
   "metadata": {},
   "source": [
    "observe `isdensity = true` and `weights` tells us the number of observation per binsize in each bin"
   ]
  },
  {
   "cell_type": "code",
   "execution_count": null,
   "id": "45fbf5e2",
   "metadata": {},
   "outputs": [],
   "source": [
    "using LinearAlgebra: normalize\n",
    "normalize(h, mode=:density)"
   ]
  },
  {
   "cell_type": "markdown",
   "id": "fdaed034",
   "metadata": {},
   "source": [
    "## Standard Transform"
   ]
  },
  {
   "cell_type": "code",
   "execution_count": null,
   "id": "0bec2fe5",
   "metadata": {},
   "outputs": [],
   "source": [
    "standardize(ZScoreTransform,\n",
    "            [0.0 -0.5 0.5\n",
    "             0.0  1.0 2.0],\n",
    "            dims=2)"
   ]
  },
  {
   "cell_type": "code",
   "execution_count": null,
   "id": "69b91d53",
   "metadata": {},
   "outputs": [],
   "source": [
    "standardize(UnitRangeTransform,\n",
    "            [0.0 -0.5 0.5\n",
    "             0.0  1.0 2.0],\n",
    "            dims=2)"
   ]
  },
  {
   "cell_type": "markdown",
   "id": "5cd76326",
   "metadata": {},
   "source": [
    "# Distributions.jl"
   ]
  },
  {
   "cell_type": "code",
   "execution_count": null,
   "id": "1ec90c73",
   "metadata": {},
   "outputs": [],
   "source": [
    "using Distributions\n",
    "using Plots"
   ]
  },
  {
   "cell_type": "markdown",
   "id": "8bc8c62e",
   "metadata": {},
   "source": [
    "again the builtin `Statistics` package is reused as much as possible"
   ]
  },
  {
   "cell_type": "code",
   "execution_count": null,
   "id": "6f1af0f2",
   "metadata": {},
   "outputs": [],
   "source": [
    "@which Distributions.quantile"
   ]
  },
  {
   "cell_type": "markdown",
   "id": "a37f3999",
   "metadata": {},
   "source": [
    "same holds for `StatsBase`"
   ]
  },
  {
   "cell_type": "code",
   "execution_count": null,
   "id": "927bfc37",
   "metadata": {},
   "outputs": [],
   "source": [
    "@which Distributions.kurtosis"
   ]
  },
  {
   "cell_type": "markdown",
   "id": "de4991e8",
   "metadata": {},
   "source": [
    "let's use a Gaussian distribution, aka Normal distribution"
   ]
  },
  {
   "cell_type": "code",
   "execution_count": null,
   "id": "101ffb9d",
   "metadata": {},
   "outputs": [],
   "source": [
    "d = Normal()"
   ]
  },
  {
   "cell_type": "code",
   "execution_count": null,
   "id": "bd9df990",
   "metadata": {},
   "outputs": [],
   "source": [
    "plot(x -> pdf(d, x))"
   ]
  },
  {
   "cell_type": "code",
   "execution_count": null,
   "id": "07a8303d",
   "metadata": {},
   "outputs": [],
   "source": [
    "fieldnames(typeof(d))"
   ]
  },
  {
   "cell_type": "code",
   "execution_count": null,
   "id": "55383d1f",
   "metadata": {},
   "outputs": [],
   "source": [
    "d.μ, d.σ"
   ]
  },
  {
   "cell_type": "code",
   "execution_count": null,
   "id": "00e3e96c",
   "metadata": {},
   "outputs": [],
   "source": [
    "mean(d), std(d)"
   ]
  },
  {
   "cell_type": "code",
   "execution_count": null,
   "id": "94372801",
   "metadata": {},
   "outputs": [],
   "source": [
    "d_sample = rand(d, 1000)\n",
    "histogram(d_sample)"
   ]
  },
  {
   "cell_type": "code",
   "execution_count": null,
   "id": "9b9045cb",
   "metadata": {},
   "outputs": [],
   "source": [
    "mean(d_sample), std(d_sample)"
   ]
  },
  {
   "cell_type": "code",
   "execution_count": null,
   "id": "ec1635ce",
   "metadata": {},
   "outputs": [],
   "source": [
    "d_truncated = truncated(Normal(4, 10), -10, 20)"
   ]
  },
  {
   "cell_type": "code",
   "execution_count": null,
   "id": "23d33ce6",
   "metadata": {},
   "outputs": [],
   "source": [
    "plot(-20:+30, x -> pdf(d_truncated, x))"
   ]
  },
  {
   "cell_type": "code",
   "execution_count": null,
   "id": "557369d6",
   "metadata": {},
   "outputs": [],
   "source": [
    "mean(d_truncated), std(d_truncated)"
   ]
  },
  {
   "cell_type": "code",
   "execution_count": null,
   "id": "89ebcc54",
   "metadata": {},
   "outputs": [],
   "source": [
    "d_censored = censored(Normal(4, 10), -10, 20)"
   ]
  },
  {
   "cell_type": "code",
   "execution_count": null,
   "id": "b5ad259c",
   "metadata": {},
   "outputs": [],
   "source": [
    "plot(-20:+30, x -> pdf(d_censored, x))"
   ]
  },
  {
   "cell_type": "code",
   "execution_count": null,
   "id": "4df2f6b7",
   "metadata": {},
   "outputs": [],
   "source": [
    "d_fitted = fit(Normal, d_sample)"
   ]
  },
  {
   "cell_type": "markdown",
   "id": "328ff824",
   "metadata": {},
   "source": [
    "What could be the reason that σ is different?"
   ]
  },
  {
   "cell_type": "code",
   "execution_count": null,
   "id": "7a18e9f0",
   "metadata": {},
   "outputs": [],
   "source": [
    "d_mixture = MixtureModel(\n",
    "    [Normal(-4.0, 1.2)\n",
    "     Normal(0.0, 1.0)\n",
    "     Normal(3.0, 1.5)], [0.2, 0.5, 0.3])"
   ]
  },
  {
   "cell_type": "code",
   "execution_count": null,
   "id": "1cac8a52",
   "metadata": {},
   "outputs": [],
   "source": [
    "plot(x -> pdf(d_mixture, x))"
   ]
  },
  {
   "cell_type": "markdown",
   "id": "7cda89c0",
   "metadata": {},
   "source": [
    "## 👉 your time \n",
    "\n",
    "Construct a distribution with two equally probable peaks. \n",
    "\n",
    "And get the 0.8 quantile"
   ]
  },
  {
   "cell_type": "code",
   "execution_count": null,
   "id": "7541fb41",
   "metadata": {},
   "outputs": [],
   "source": [
    "# your space"
   ]
  },
  {
   "cell_type": "markdown",
   "id": "c93a628d",
   "metadata": {},
   "source": [
    "# Distances.jl\n",
    "\n",
    "https://github.com/JuliaStats/Distances.jl\n",
    "\n",
    "really important to know that this exists"
   ]
  },
  {
   "cell_type": "code",
   "execution_count": null,
   "id": "dbee4dc2",
   "metadata": {},
   "outputs": [],
   "source": [
    "using Distances"
   ]
  },
  {
   "cell_type": "markdown",
   "id": "204d19ad",
   "metadata": {},
   "source": [
    "The warning means that Distances does not reuse the respective function in StatsBase. The reason is probably that Distances.jl wants to be the ground truth package for distances."
   ]
  },
  {
   "cell_type": "code",
   "execution_count": null,
   "id": "b5074d1f",
   "metadata": {},
   "outputs": [],
   "source": [
    "@which Distances.meanad"
   ]
  },
  {
   "cell_type": "code",
   "execution_count": null,
   "id": "b9ad0414",
   "metadata": {},
   "outputs": [],
   "source": [
    "colwise(Euclidean(), rand(10, 3), rand(10, 3))"
   ]
  },
  {
   "cell_type": "code",
   "execution_count": null,
   "id": "b76a6877",
   "metadata": {},
   "outputs": [],
   "source": [
    "m1 = rand(Bool, 3, 4)\n",
    "display(m1)\n",
    "\n",
    "m2 = rand(Bool, 3, 2)\n",
    "display(m2)\n",
    "\n",
    "pairwise(Hamming(), m1, m2)"
   ]
  },
  {
   "cell_type": "markdown",
   "id": "0944bec9",
   "metadata": {},
   "source": [
    "# HypothesisTests.jl\n",
    "\n",
    "https://juliastats.org/HypothesisTests.jl/stable/"
   ]
  },
  {
   "cell_type": "code",
   "execution_count": null,
   "id": "620b614a",
   "metadata": {},
   "outputs": [],
   "source": [
    "using HypothesisTests\n",
    "x = rand(Normal(), 100)"
   ]
  },
  {
   "cell_type": "code",
   "execution_count": null,
   "id": "d8203a67",
   "metadata": {},
   "outputs": [],
   "source": [
    "pvalue(OneSampleTTest(x), tail=:both) # you can also set tail = :left or :right"
   ]
  },
  {
   "cell_type": "code",
   "execution_count": null,
   "id": "c905a556",
   "metadata": {},
   "outputs": [],
   "source": [
    "mean_H0 = 0\n",
    "pvalue(OneSampleTTest(x, mean_H0))"
   ]
  },
  {
   "cell_type": "code",
   "execution_count": null,
   "id": "c4e5c649",
   "metadata": {},
   "outputs": [],
   "source": [
    "dist_H0 = Normal()\n",
    "pvalue(OneSampleADTest(x, dist_H0))"
   ]
  },
  {
   "cell_type": "markdown",
   "id": "4814ffd2",
   "metadata": {},
   "source": [
    "alternatively you can also get the confidence interval of the Null Hypothesis by `confint`"
   ]
  },
  {
   "cell_type": "code",
   "execution_count": null,
   "id": "5cee7385",
   "metadata": {},
   "outputs": [],
   "source": [
    "confint(OneSampleTTest(x), level=0.95, tail=:both)  # you can also set tail = :left or :right"
   ]
  },
  {
   "cell_type": "markdown",
   "id": "e5094a36",
   "metadata": {},
   "source": [
    "## 👉 your time \n",
    "\n",
    "Try to change the sample `x` such that the tests give a very low p-value "
   ]
  },
  {
   "cell_type": "code",
   "execution_count": null,
   "id": "a4216f49",
   "metadata": {},
   "outputs": [],
   "source": [
    "# your space"
   ]
  },
  {
   "cell_type": "markdown",
   "id": "a149efee",
   "metadata": {},
   "source": [
    "## Do-it-yourself Hypothesis Tests\n",
    "\n",
    "1. Come up with a test to be computed - should be different between completely random data (H0), and your data.\n",
    "2. Remember, null hypothesis H0 are best if we can reject them!\n",
    "3. Think about how your data is distributed if H0 is true\n",
    "4. sample example data from your H0 distribution and compute your test statistic\n",
    "5. repeat and look how likely the target test statistic is"
   ]
  },
  {
   "cell_type": "markdown",
   "id": "0a288db5",
   "metadata": {},
   "source": [
    "Let's do something like a T-Test, checking whether two samples have different mean.\n",
    "\n",
    "1. let's test the absolute difference between the mean\n",
    "2. we want to show \"different mean\", so in order to reject our H0, or H0 should represent \"same mean\" (i.e. difference == 0)\n",
    "3. we assume our data is Normal distributed, and under H0 both samples have the same distribution, so let's fit a Normal to all data\n",
    "4. we sample two samples of same size as the target, and compute our test\n",
    "5. e.g. we can use `StatsBase.ecdf`"
   ]
  },
  {
   "cell_type": "code",
   "execution_count": null,
   "id": "1a71ca0a",
   "metadata": {},
   "outputs": [],
   "source": [
    "n = 10 \n",
    "\n",
    "data1 = rand(Normal(0), n)\n",
    "data2 = rand(Normal(2), n)"
   ]
  },
  {
   "cell_type": "code",
   "execution_count": null,
   "id": "b32f0bcc",
   "metadata": {},
   "outputs": [],
   "source": [
    "my_test_statistic(data1, data2) = abs(mean(data1) - mean(data2))"
   ]
  },
  {
   "cell_type": "code",
   "execution_count": null,
   "id": "5de0704a",
   "metadata": {},
   "outputs": [],
   "source": [
    "my_test_statistic(data1, data2)"
   ]
  },
  {
   "cell_type": "code",
   "execution_count": null,
   "id": "d8cfb28e",
   "metadata": {},
   "outputs": [],
   "source": [
    "H0_dist = fit(Normal, [data1; data2])\n",
    "\n",
    "H0_data1() = rand(H0_dist, n)\n",
    "H0_data2() = rand(H0_dist, n)"
   ]
  },
  {
   "cell_type": "code",
   "execution_count": null,
   "id": "f1fbab25",
   "metadata": {},
   "outputs": [],
   "source": [
    "test_statistic_H0_sample = [my_test_statistic(H0_data1(), H0_data2()) for _ in 1:1000000]"
   ]
  },
  {
   "cell_type": "code",
   "execution_count": null,
   "id": "b9ccd66a",
   "metadata": {},
   "outputs": [],
   "source": [
    "test_statistic_H0_cumdist = ecdf(test_statistic_H0_sample)"
   ]
  },
  {
   "cell_type": "code",
   "execution_count": null,
   "id": "08fb7505",
   "metadata": {},
   "outputs": [],
   "source": [
    "my_test_statistic(data1, data2)"
   ]
  },
  {
   "cell_type": "code",
   "execution_count": null,
   "id": "b0d8cc36",
   "metadata": {},
   "outputs": [],
   "source": [
    "alpha = 1 - test_statistic_H0_cumdist(my_test_statistic(data1, data2))  # be careful with tail: left, right, both?"
   ]
  },
  {
   "cell_type": "markdown",
   "id": "35b59dc3",
   "metadata": {},
   "source": [
    "alternatively, we can directly look how often we've found a higher value in our H0"
   ]
  },
  {
   "cell_type": "code",
   "execution_count": null,
   "id": "6461b63e",
   "metadata": {},
   "outputs": [],
   "source": [
    "mean(my_test_statistic(data1, data2) .< test_statistic_H0_sample)"
   ]
  },
  {
   "cell_type": "markdown",
   "id": "cc8211f7",
   "metadata": {},
   "source": [
    "What would it mean if this alpha estimator returns `0.0`? What would be our alpha?"
   ]
  },
  {
   "cell_type": "markdown",
   "id": "ce12fb09",
   "metadata": {},
   "source": [
    "## 👉 your time \n",
    "\n",
    "Change `n` above, and see how our custom hypothesis test performs. Why?\n",
    "\n",
    "Also change the `data1` and `data2` distributions above."
   ]
  },
  {
   "cell_type": "code",
   "execution_count": null,
   "id": "1d8b8117",
   "metadata": {},
   "outputs": [],
   "source": [
    "# your space"
   ]
  },
  {
   "cell_type": "markdown",
   "id": "e9b29bc6",
   "metadata": {},
   "source": [
    "# Bootstrap.jl\n",
    "\n",
    "https://github.com/juliangehring/Bootstrap.jl\n",
    "\n",
    "At last I want to show you another application of sampling - Bootstrapping.\n",
    "\n",
    "In bootstrapping we want to find the confidence interval of our estimator.\n",
    "\n",
    "- Say we have a sample `x`, and compute the mean `mean(x)`, how can we provide some confidence values for our `mean(x)`.\n",
    "\n",
    "- If we would only know the underlying distribution which generate sample, everything would be very simple, but this is usually unkown.\n",
    "\n",
    "- As an estimator of the underlying distribution - the population - we just use our sample. We pretend our sample is the population and repeat the same process."
   ]
  },
  {
   "cell_type": "code",
   "execution_count": null,
   "id": "2be4aa82",
   "metadata": {},
   "outputs": [],
   "source": [
    "n = 1000\n",
    "x = rand(Normal(), n)"
   ]
  },
  {
   "cell_type": "code",
   "execution_count": null,
   "id": "26d4bd6b",
   "metadata": {},
   "outputs": [],
   "source": [
    "mean(x)"
   ]
  },
  {
   "cell_type": "markdown",
   "id": "832602c2",
   "metadata": {},
   "source": [
    "Now we pretend our sample `x` is a good representation of the entire population. We want to sample from it, with same size as original, hence we need sampling with replacement."
   ]
  },
  {
   "cell_type": "code",
   "execution_count": null,
   "id": "954eda45",
   "metadata": {},
   "outputs": [],
   "source": [
    "sample(x, n, replace=true)"
   ]
  },
  {
   "cell_type": "code",
   "execution_count": null,
   "id": "2cb28caf",
   "metadata": {},
   "outputs": [],
   "source": [
    "mean(sample(x, n, replace=true))"
   ]
  },
  {
   "cell_type": "markdown",
   "id": "01e766c2",
   "metadata": {},
   "source": [
    "we repeat this in order to get a distribution of our estimator"
   ]
  },
  {
   "cell_type": "code",
   "execution_count": null,
   "id": "1bc364c5",
   "metadata": {},
   "outputs": [],
   "source": [
    "mean_bootstrap_sample = [mean(sample(x, n, replace=true)) for _ in 1:1_000_000]"
   ]
  },
  {
   "cell_type": "code",
   "execution_count": null,
   "id": "7e68181f",
   "metadata": {},
   "outputs": [],
   "source": [
    "quantile(mean_bootstrap_sample, [0.2, 0.8])"
   ]
  },
  {
   "cell_type": "code",
   "execution_count": null,
   "id": "5cc715de",
   "metadata": {},
   "outputs": [],
   "source": [
    "mean(x)"
   ]
  },
  {
   "cell_type": "markdown",
   "id": "611903fe",
   "metadata": {},
   "source": [
    "There we have our minimal confidence interval for our statistical estimator!"
   ]
  },
  {
   "cell_type": "markdown",
   "id": "10af835f",
   "metadata": {},
   "source": [
    "## 👉 your time \n",
    "\n",
    "Try another estimator above, e.g. variance `var`."
   ]
  },
  {
   "cell_type": "code",
   "execution_count": null,
   "id": "d0f2d8a8",
   "metadata": {},
   "outputs": [],
   "source": [
    "# your space"
   ]
  },
  {
   "cell_type": "markdown",
   "id": "d28153d5",
   "metadata": {},
   "source": [
    "More details and advanced methods on Statistical Bootstrap can be found at [Bootstrap.jl](https://github.com/juliangehring/Bootstrap.jl)"
   ]
  },
  {
   "cell_type": "markdown",
   "id": "a82fb297",
   "metadata": {},
   "source": [
    "# Machine Learning related packages, bundled within StatsKit.jl\n",
    "\n",
    "- [Clustering.jl](https://github.com/JuliaStats/Clustering.jl)\n",
    "- [GLM.jl (generalized linear models)](https://github.com/JuliaStats/GLM.jl)\n",
    "- [MixedModels.jl](https://github.com/JuliaStats/MixedModels.jl)\n",
    "- [MultivariateStats.jl (dimension reduction)](https://github.com/JuliaStats/MultivariateStats.jl)"
   ]
  },
  {
   "cell_type": "markdown",
   "id": "07221b8e",
   "metadata": {},
   "source": [
    "# Thank you for joining\n",
    "\n",
    "for questions or suggestions please contact me at stephan.sahm@jolin.io"
   ]
  },
  {
   "cell_type": "markdown",
   "id": "eccbe94a",
   "metadata": {},
   "source": [
    "<a href=\"https://www.jolin.io\" target=\"_blank\" rel=\"noreferrer noopener\">\n",
    "<img src=\"https://www.jolin.io/assets/Jolin/Jolin-Banner-Website-v1.1-darkmode.webp\">\n",
    "</a>"
   ]
  }
 ],
 "metadata": {
  "kernelspec": {
   "display_name": "Julia 1.7.1",
   "language": "julia",
   "name": "julia-1.7"
  },
  "language_info": {
   "file_extension": ".jl",
   "mimetype": "application/julia",
   "name": "julia",
   "version": "1.7.1"
  }
 },
 "nbformat": 4,
 "nbformat_minor": 5
}
