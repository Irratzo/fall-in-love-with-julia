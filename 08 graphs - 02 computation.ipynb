{
 "cells": [
  {
   "cell_type": "markdown",
   "id": "76bc95e5",
   "metadata": {},
   "source": [
    "[![Binder](https://mybinder.org/badge_logo.svg)](https://mybinder.org/v2/gh/schlichtanders/fall-in-love-with-julia/main?filepath=08%20graphs%20-%2002%20computation.ipynb)"
   ]
  },
  {
   "cell_type": "markdown",
   "id": "3b62a501",
   "metadata": {},
   "source": [
    "<a href=\"https://www.jolin.io\" target=\"_blank\" rel=\"noreferrer noopener\">\n",
    "<img src=\"https://www.jolin.io/assets/Jolin/Jolin-Banner-Website-v1.1-darkmode.webp\">\n",
    "</a>"
   ]
  },
  {
   "cell_type": "markdown",
   "id": "b8bc0f13",
   "metadata": {},
   "source": [
    "# Fall-in-love-with-Julia: Graphs in Julia with Graphs.jl\n",
    "\n",
    "a 101 introduction session"
   ]
  },
  {
   "cell_type": "code",
   "execution_count": 1,
   "id": "2791e056",
   "metadata": {},
   "outputs": [],
   "source": [
    "using Random; Random.seed!(2022);  # make sure this tutorial is reproducible"
   ]
  },
  {
   "cell_type": "markdown",
   "id": "5d0dd598",
   "metadata": {},
   "source": [
    "# Graphs.jl - Computations\n",
    "\n",
    "\"The project goal is to mirror the functionality of robust network and graph analysis libraries such as NetworkX.\" (https://github.com/JuliaGraphs/Graphs.jl)\n",
    "\n",
    "With `Graph`s you can do many advanced computations which we are going to look into now "
   ]
  },
  {
   "cell_type": "markdown",
   "id": "f23c76d3",
   "metadata": {},
   "source": [
    "# Path Traversal"
   ]
  },
  {
   "cell_type": "code",
   "execution_count": null,
   "id": "acea7f9b",
   "metadata": {},
   "outputs": [],
   "source": []
  },
  {
   "cell_type": "code",
   "execution_count": null,
   "id": "af39b7bc",
   "metadata": {},
   "outputs": [],
   "source": []
  },
  {
   "cell_type": "markdown",
   "id": "8222008f",
   "metadata": {},
   "source": [
    "# Further Examples\n",
    "\n",
    "jupyter notebooks with focus on applying Graphs.jl (still referred to as LightGraphs.jl)\n",
    "- [DAG julia pkgs](https://nbviewer.org/github/JuliaGraphs/JuliaGraphsTutorials/blob/master/DAG-Julia-Pkgs.ipynb)\n",
    "- [Watts model](https://nbviewer.org/github/JuliaGraphs/JuliaGraphsTutorials/blob/master/Watts-Model.ipynb)\n",
    "- [The tipping point](https://nbviewer.org/github/JuliaGraphs/JuliaGraphsTutorials/blob/master/TheTippingPoint.ipynb)\n",
    "- [Talk of the network](https://nbviewer.org/github/JuliaGraphs/JuliaGraphsTutorials/blob/master/Talk-of-the-network.ipynb)"
   ]
  },
  {
   "cell_type": "markdown",
   "id": "a38342f7",
   "metadata": {},
   "source": [
    "<a href=\"https://www.jolin.io\" target=\"_blank\" rel=\"noreferrer noopener\">\n",
    "<img src=\"https://www.jolin.io/assets/Jolin/Jolin-Banner-Website-v1.1-darkmode.webp\">\n",
    "</a>"
   ]
  }
 ],
 "metadata": {
  "kernelspec": {
   "display_name": "Julia 1.7.1",
   "language": "julia",
   "name": "julia-1.7"
  },
  "language_info": {
   "file_extension": ".jl",
   "mimetype": "application/julia",
   "name": "julia",
   "version": "1.7.1"
  }
 },
 "nbformat": 4,
 "nbformat_minor": 5
}
