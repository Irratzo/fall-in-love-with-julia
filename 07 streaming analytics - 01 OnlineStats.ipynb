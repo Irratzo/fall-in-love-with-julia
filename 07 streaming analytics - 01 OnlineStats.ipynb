{
 "cells": [
  {
   "cell_type": "markdown",
   "id": "be569de4",
   "metadata": {},
   "source": [
    "[![Binder](https://mybinder.org/badge_logo.svg)](https://mybinder.org/v2/gh/schlichtanders/fall-in-love-with-julia/main?filepath=07%20streaming%20analytics%20-%2001%20OnlineStats.ipynb)"
   ]
  },
  {
   "cell_type": "markdown",
   "id": "ea80fe60",
   "metadata": {},
   "source": [
    "# Introduction to Streaming Analytics in Julia with OnlineStats.jl\n",
    "\n",
    "Welcome to this little Jupyter Notebook for getting to know real-time processing in Julia.\n",
    "\n",
    "[![OnlineStats](https://joshday.github.io/OnlineStats.jl/latest/assets/logo.svg)](https://joshday.github.io/OnlineStats.jl/latest/)\n",
    "\n",
    "[OnlineStats.jl](https://joshday.github.io/OnlineStats.jl/latest/) does statistics and data visualization for big/streaming data via online algorithms. Each algorithm:\n",
    "- processes data one observation at a time.\n",
    "- uses O(1) memory.\n",
    "\n",
    "The perfect building blocks you need for your streaming analysis."
   ]
  },
  {
   "cell_type": "code",
   "execution_count": null,
   "id": "485f5344",
   "metadata": {},
   "outputs": [],
   "source": []
  }
 ],
 "metadata": {
  "kernelspec": {
   "display_name": "Julia 1.6.1",
   "language": "julia",
   "name": "julia-1.6"
  }
 },
 "nbformat": 4,
 "nbformat_minor": 5
}
