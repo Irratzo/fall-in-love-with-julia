{
 "cells": [
  {
   "cell_type": "markdown",
   "id": "e99d1c8d",
   "metadata": {},
   "source": [
    "[![Binder](https://mybinder.org/badge_logo.svg)](https://mybinder.org/v2/gh/schlichtanders/fall-in-love-with-julia/master?filepath=07%20streaming%20analytics%20-%2001%20OnlineStats.ipynb)"
   ]
  },
  {
   "cell_type": "markdown",
   "id": "86cab8da",
   "metadata": {},
   "source": [
    "# Introduction to Streaming Analytics in Julia with OnlineStats.jl\n",
    "\n",
    "Welcome to this little Jupyter Notebook for getting to know real-time processing in Julia.\n",
    "\n",
    "[![OnlineStats](https://joshday.github.io/OnlineStats.jl/latest/assets/logo.svg)](https://joshday.github.io/OnlineStats.jl/latest/)\n",
    "\n",
    "[OnlineStats.jl](https://joshday.github.io/OnlineStats.jl/latest/) does statistics and data visualization for big/streaming data via online algorithms. Each algorithm:\n",
    "- processes data one observation at a time.\n",
    "- uses O(1) memory.\n",
    "\n",
    "The perfect building blocks you need for your streaming analysis."
   ]
  },
  {
   "cell_type": "markdown",
   "id": "40fd7160",
   "metadata": {},
   "source": [
    "# Basics"
   ]
  },
  {
   "cell_type": "code",
   "execution_count": 10,
   "id": "a26423b3",
   "metadata": {},
   "outputs": [],
   "source": [
    "using OnlineStats"
   ]
  },
  {
   "cell_type": "code",
   "execution_count": 24,
   "id": "800b4906",
   "metadata": {},
   "outputs": [
    {
     "data": {
      "text/plain": [
       "Mean\u001b[90m: \u001b[39mn=0\u001b[90m |\u001b[39m value=0.0"
      ]
     },
     "execution_count": 24,
     "metadata": {},
     "output_type": "execute_result"
    }
   ],
   "source": [
    "m = Mean()"
   ]
  },
  {
   "cell_type": "code",
   "execution_count": 25,
   "id": "38c4ace4",
   "metadata": {},
   "outputs": [
    {
     "data": {
      "text/plain": [
       "(Mean{Float64, EqualWeight}, OnlineStat{Number}, Any)"
      ]
     },
     "execution_count": 25,
     "metadata": {},
     "output_type": "execute_result"
    }
   ],
   "source": [
    "supertypes(typeof(m))"
   ]
  },
  {
   "cell_type": "markdown",
   "id": "baf5c750",
   "metadata": {},
   "source": [
    "Stats are subtypes of `OnlineStat{T}` where `T` is the type of a single observation."
   ]
  },
  {
   "cell_type": "markdown",
   "id": "a21f14c2",
   "metadata": {},
   "source": [
    "## Fit"
   ]
  },
  {
   "cell_type": "code",
   "execution_count": 26,
   "id": "c21c4ea3",
   "metadata": {},
   "outputs": [
    {
     "data": {
      "text/plain": [
       "10-element Vector{Float64}:\n",
       " -1.07951222500102\n",
       "  0.6045938640409401\n",
       " -0.0586019073511424\n",
       " -0.6322154909908462\n",
       " -0.2750862898712892\n",
       "  2.929904536077595\n",
       "  0.8138433089916799\n",
       " -0.43512481574223166\n",
       " -1.0311068613447099\n",
       "  1.1292896228006608"
      ]
     },
     "execution_count": 26,
     "metadata": {},
     "output_type": "execute_result"
    }
   ],
   "source": [
    "ys = randn(10)"
   ]
  },
  {
   "cell_type": "code",
   "execution_count": 27,
   "id": "be4a66fc",
   "metadata": {},
   "outputs": [
    {
     "name": "stdout",
     "output_type": "stream",
     "text": [
      "Mean\u001b[90m: \u001b[39mn=1\u001b[90m |\u001b[39m value=-1.07951\n",
      "Mean\u001b[90m: \u001b[39mn=2\u001b[90m |\u001b[39m value=-0.237459\n",
      "Mean\u001b[90m: \u001b[39mn=3\u001b[90m |\u001b[39m value=-0.17784\n",
      "Mean\u001b[90m: \u001b[39mn=4\u001b[90m |\u001b[39m value=-0.291434\n",
      "Mean\u001b[90m: \u001b[39mn=5\u001b[90m |\u001b[39m value=-0.288164\n",
      "Mean\u001b[90m: \u001b[39mn=6\u001b[90m |\u001b[39m value=0.24818\n",
      "Mean\u001b[90m: \u001b[39mn=7\u001b[90m |\u001b[39m value=0.328989\n",
      "Mean\u001b[90m: \u001b[39mn=8\u001b[90m |\u001b[39m value=0.233475\n",
      "Mean\u001b[90m: \u001b[39mn=9\u001b[90m |\u001b[39m value=0.092966\n",
      "Mean\u001b[90m: \u001b[39mn=10\u001b[90m |\u001b[39m value=0.196598\n"
     ]
    }
   ],
   "source": [
    "for y in ys\n",
    "    fit!(m, y)\n",
    "    println(m)\n",
    "end"
   ]
  },
  {
   "cell_type": "markdown",
   "id": "eb2f8ef7",
   "metadata": {},
   "source": [
    "Stats can be updated with single or multiple observations e.g. `fit!(m, 1)` and `fit!(m, [1,2,3])`."
   ]
  },
  {
   "cell_type": "code",
   "execution_count": 28,
   "id": "e613a327",
   "metadata": {},
   "outputs": [
    {
     "data": {
      "text/plain": [
       "10-element Vector{Float64}:\n",
       " 6.688116466808715\n",
       " 3.88653851736674\n",
       " 6.796138094624774\n",
       " 5.4326370068758205\n",
       " 4.53734026154239\n",
       " 5.976078727788369\n",
       " 3.7385922277496766\n",
       " 5.909637796398937\n",
       " 5.322951049648258\n",
       " 5.4643106396365715"
      ]
     },
     "execution_count": 28,
     "metadata": {},
     "output_type": "execute_result"
    }
   ],
   "source": [
    "ys2 = randn(10) .+ 5"
   ]
  },
  {
   "cell_type": "code",
   "execution_count": 29,
   "id": "7e5a50e1",
   "metadata": {},
   "outputs": [
    {
     "data": {
      "text/plain": [
       "Mean\u001b[90m: \u001b[39mn=10\u001b[90m |\u001b[39m value=5.37523"
      ]
     },
     "execution_count": 29,
     "metadata": {},
     "output_type": "execute_result"
    }
   ],
   "source": [
    "m2 = Mean()\n",
    "fit!(m2, ys2)"
   ]
  },
  {
   "cell_type": "markdown",
   "id": "41067be6",
   "metadata": {},
   "source": [
    "## Merge\n",
    "\n",
    "Stats can be merged."
   ]
  },
  {
   "cell_type": "code",
   "execution_count": 30,
   "id": "6f5353d1",
   "metadata": {},
   "outputs": [
    {
     "data": {
      "text/plain": [
       "Mean\u001b[90m: \u001b[39mn=20\u001b[90m |\u001b[39m value=2.78592"
      ]
     },
     "execution_count": 30,
     "metadata": {},
     "output_type": "execute_result"
    }
   ],
   "source": [
    "merge!(m, m2)"
   ]
  },
  {
   "cell_type": "markdown",
   "id": "5b0aa980",
   "metadata": {},
   "source": [
    "# Visualizations"
   ]
  },
  {
   "cell_type": "code",
   "execution_count": null,
   "id": "4e27e11c",
   "metadata": {},
   "outputs": [],
   "source": [
    "using Plots\n",
    "using Random\n",
    "\n",
    "nframes = 100\n",
    "\n",
    "o = HeatMap(-5:.2:5, 0:.2:10)\n",
    "anim = @animate for i in 1:nframes \n",
    "    x = randn(5i)\n",
    "    y = Random.randexp(5i)\n",
    "    fit!(o, zip(x,y))\n",
    "    plot(o)\n",
    "end\n",
    "gif(anim, \"temp.gif\", fps=10)"
   ]
  },
  {
   "cell_type": "markdown",
   "id": "7cf39647",
   "metadata": {},
   "source": [
    "# Large Data"
   ]
  },
  {
   "cell_type": "code",
   "execution_count": 8,
   "id": "c7b948d0",
   "metadata": {},
   "outputs": [
    {
     "name": "stdout",
     "output_type": "stream",
     "text": [
      "Downloading new-york-city-taxi-fare-prediction.zip to data\n",
      "User cancelled operation\n"
     ]
    },
    {
     "name": "stderr",
     "output_type": "stream",
     "text": [
      "\r",
      "  7%|██▌                                   | 109M/1.56G [00:12<02:55, 8.88MB/s]\n"
     ]
    },
    {
     "data": {
      "text/plain": [
       "Process(`\u001b[4mkaggle\u001b[24m \u001b[4mcompetitions\u001b[24m \u001b[4mdownload\u001b[24m \u001b[4m-c\u001b[24m \u001b[4mnew-york-city-taxi-fare-prediction\u001b[24m \u001b[4m-p\u001b[24m \u001b[4mdata/\u001b[24m`, ProcessExited(0))"
      ]
     },
     "execution_count": 8,
     "metadata": {},
     "output_type": "execute_result"
    }
   ],
   "source": [
    "run(`kaggle competitions download -c new-york-city-taxi-fare-prediction -p data/`)"
   ]
  },
  {
   "cell_type": "code",
   "execution_count": null,
   "id": "2a308a6d",
   "metadata": {},
   "outputs": [],
   "source": [
    "run(`unzip data/new-york-city-taxi-fare-prediction.zip -d data/`)  # takes about 1 minute"
   ]
  },
  {
   "cell_type": "code",
   "execution_count": null,
   "id": "e84d9cd6",
   "metadata": {},
   "outputs": [],
   "source": [
    "; ls data"
   ]
  }
 ],
 "metadata": {
  "kernelspec": {
   "display_name": "Julia 1.6.1",
   "language": "julia",
   "name": "julia-1.6"
  },
  "language_info": {
   "file_extension": ".jl",
   "mimetype": "application/julia",
   "name": "julia",
   "version": "1.6.1"
  }
 },
 "nbformat": 4,
 "nbformat_minor": 5
}
