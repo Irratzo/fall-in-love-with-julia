{
 "cells": [
  {
   "cell_type": "markdown",
   "id": "e99d1c8d",
   "metadata": {},
   "source": [
    "[![Binder](https://mybinder.org/badge_logo.svg)](https://notebooks.gesis.org/binder/v2/gh/jolin-io/fall-in-love-with-julia/main?filepath=07%20streaming%20analytics%20-%2001%20OnlineStats.ipynb)"
   ]
  },
  {
   "cell_type": "markdown",
   "id": "1143013a",
   "metadata": {},
   "source": [
    "![](https://www.juliaperformance.com/assets/JuliaPerformance/banner-clouds.jpg)\n",
    "<center><br></center>\n",
    "<center><a href=\"www.juliaperformance.com\">www.juliaperformance.com</a></center>\n",
    "<center><em>making Julia the standard</em></center>\n",
    "\n",
    "I am very happy to share with you that I started a new consultancy company with the sole focus on applying Julia technology.\n",
    "<center>🍾🥂🎈🎉🔥</center>"
   ]
  },
  {
   "cell_type": "markdown",
   "id": "86cab8da",
   "metadata": {},
   "source": [
    "# Introduction to streaming analytics in Julia with OnlineStats.jl\n",
    "\n",
    "Welcome to this little Jupyter Notebook for getting to know real-time processing in Julia.\n",
    "\n",
    "Disclaimer: All examples from this notebook are adapted from OnlineStats documentation. This notebook is an overall summary to OnlineStats, especially tested and adapted so that you have a great hands-on experience with this binder jupyter notebook.\n",
    "\n",
    "[![OnlineStats](https://joshday.github.io/OnlineStats.jl/latest/assets/logo.svg)](https://joshday.github.io/OnlineStats.jl/latest/)\n",
    "\n",
    "[OnlineStats.jl](https://joshday.github.io/OnlineStats.jl/latest/)\n",
    "\n",
    "Online Algorithms for Statistics, Models, and Big Data Viz\n",
    "\n",
    "- ⚡ High-performance single-pass algorithms for statistics and data viz.\n",
    "- ➕ Updated one observation at a time.\n",
    "- ✅ Algorithms use O(1) memory.\n",
    "- 📈 Perfect for streaming and big data.\n",
    "\n",
    "The perfect building blocks you need for your streaming analysis."
   ]
  },
  {
   "cell_type": "markdown",
   "id": "63e4a3b1",
   "metadata": {},
   "source": [
    "# Overview\n",
    "1. [Basics I](#Basics-I)\n",
    "2. [Basics II](#Basics-II)\n",
    "3. [Visualizations](#Visualizations)\n",
    "4. [Streaming and big data](#Streaming-and-big-data)\n",
    "5. [Machine learning](#Machine-learning)"
   ]
  },
  {
   "cell_type": "code",
   "execution_count": null,
   "id": "31f6b020",
   "metadata": {},
   "outputs": [],
   "source": [
    "using Plots\n",
    "using IJulia\n",
    "using Random\n",
    "using BenchmarkTools\n",
    "using Base.Iterators\n",
    "using Statistics\n",
    "plotlyjs()"
   ]
  },
  {
   "cell_type": "markdown",
   "id": "40fd7160",
   "metadata": {},
   "source": [
    "# Basics I"
   ]
  },
  {
   "cell_type": "code",
   "execution_count": null,
   "id": "a26423b3",
   "metadata": {},
   "outputs": [],
   "source": [
    "using OnlineStats"
   ]
  },
  {
   "cell_type": "code",
   "execution_count": null,
   "id": "800b4906",
   "metadata": {},
   "outputs": [],
   "source": [
    "m = Mean()"
   ]
  },
  {
   "cell_type": "code",
   "execution_count": null,
   "id": "38c4ace4",
   "metadata": {},
   "outputs": [],
   "source": [
    "supertypes(typeof(m))"
   ]
  },
  {
   "cell_type": "markdown",
   "id": "baf5c750",
   "metadata": {},
   "source": [
    "Stats are subtypes of `OnlineStat{T}` where `T` is the type of a single observation."
   ]
  },
  {
   "cell_type": "markdown",
   "id": "a21f14c2",
   "metadata": {},
   "source": [
    "## Fit"
   ]
  },
  {
   "cell_type": "code",
   "execution_count": null,
   "id": "c21c4ea3",
   "metadata": {},
   "outputs": [],
   "source": [
    "ys = randn(10)"
   ]
  },
  {
   "cell_type": "code",
   "execution_count": null,
   "id": "be4a66fc",
   "metadata": {},
   "outputs": [],
   "source": [
    "for y in ys\n",
    "    fit!(m, y)\n",
    "    println(m)\n",
    "end"
   ]
  },
  {
   "cell_type": "code",
   "execution_count": null,
   "id": "789719a6",
   "metadata": {},
   "outputs": [],
   "source": [
    "value(m)"
   ]
  },
  {
   "cell_type": "markdown",
   "id": "eb2f8ef7",
   "metadata": {},
   "source": [
    "Stats can be updated with single or multiple observations e.g. `fit!(m, 1)` and `fit!(m, [1,2,3])`."
   ]
  },
  {
   "cell_type": "code",
   "execution_count": null,
   "id": "e613a327",
   "metadata": {},
   "outputs": [],
   "source": [
    "ys2 = randn(10) .+ 5"
   ]
  },
  {
   "cell_type": "code",
   "execution_count": null,
   "id": "7e5a50e1",
   "metadata": {},
   "outputs": [],
   "source": [
    "m2 = Mean()\n",
    "fit!(m2, ys2)"
   ]
  },
  {
   "cell_type": "code",
   "execution_count": null,
   "id": "fa6f438c",
   "metadata": {},
   "outputs": [],
   "source": [
    "m2.μ"
   ]
  },
  {
   "cell_type": "markdown",
   "id": "41067be6",
   "metadata": {},
   "source": [
    "## Merge\n",
    "\n",
    "Stats can be merged."
   ]
  },
  {
   "cell_type": "code",
   "execution_count": null,
   "id": "6f5353d1",
   "metadata": {},
   "outputs": [],
   "source": [
    "merge!(m, m2)"
   ]
  },
  {
   "cell_type": "markdown",
   "id": "086b8066",
   "metadata": {},
   "source": [
    "### 👈 Now it is your time: Try out some other models!\n",
    "\n",
    "E.g. `Variance`.\n",
    "\n",
    "There is support for\n",
    "- [Univeriate Statistics](https://joshday.github.io/OnlineStats.jl/latest/stats_and_models/#Univariate-Statistics)\n",
    "- [Time Series](https://joshday.github.io/OnlineStats.jl/latest/stats_and_models/#Time-Series)\n",
    "- [Density Estimation](https://joshday.github.io/OnlineStats.jl/latest/stats_and_models/#Parametric-Density-Estimation)\n",
    "- [Nonparametric Density Estimation](https://joshday.github.io/OnlineStats.jl/latest/stats_and_models/#Nonparametric-Density-Estimation)\n",
    "- [Machine/Statistical Learning](https://joshday.github.io/OnlineStats.jl/latest/stats_and_models/#Machine/Statistical-Learning)\n",
    "- [Other](https://joshday.github.io/OnlineStats.jl/latest/stats_and_models/#Other)\n",
    "\n",
    "An overview of available models can be found [here in the OnlineStats.jl documentation](https://joshday.github.io/OnlineStats.jl/latest/stats_and_models/), or [here in the OnlineStats.jl API overview](https://joshday.github.io/OnlineStats.jl/latest/api/)."
   ]
  },
  {
   "cell_type": "code",
   "execution_count": null,
   "id": "a27be760",
   "metadata": {},
   "outputs": [],
   "source": [
    "# your space"
   ]
  },
  {
   "cell_type": "markdown",
   "id": "a87279c0",
   "metadata": {},
   "source": [
    "-----------"
   ]
  },
  {
   "cell_type": "markdown",
   "id": "685469d9",
   "metadata": {},
   "source": [
    "**Example:** Efficiently counting unique elements (approx)."
   ]
  },
  {
   "cell_type": "code",
   "execution_count": null,
   "id": "b7fa24dd",
   "metadata": {},
   "outputs": [],
   "source": [
    "o = HyperLogLog()\n",
    "fit!(o, rand(1:100, 10^6))\n",
    "o"
   ]
  },
  {
   "cell_type": "markdown",
   "id": "263ae8b5",
   "metadata": {},
   "source": [
    "**Example:** Nonparametric Density Estimation"
   ]
  },
  {
   "cell_type": "code",
   "execution_count": null,
   "id": "22676103",
   "metadata": {},
   "outputs": [],
   "source": [
    "o = fit!(Hist(-5:.1:5), randn(10^6))\n",
    "\n",
    "# approximate statistics\n",
    "using Statistics\n",
    "@show mean(o)\n",
    "@show var(o)\n",
    "@show std(o)\n",
    "@show quantile(o)\n",
    "@show median(o)\n",
    "@show extrema(o)\n",
    "o"
   ]
  },
  {
   "cell_type": "markdown",
   "id": "359f8e67",
   "metadata": {},
   "source": [
    "# Basics II"
   ]
  },
  {
   "cell_type": "markdown",
   "id": "d68f3e3b",
   "metadata": {},
   "source": [
    "## Stack\n",
    "\n",
    "Stats can be combined.\n",
    "\n",
    "![drawing](https://user-images.githubusercontent.com/8075494/57342826-bf088c00-710e-11e9-9ac0-f3c1e5aa7a7d.png)"
   ]
  },
  {
   "cell_type": "markdown",
   "id": "a94fc544",
   "metadata": {},
   "source": [
    "Series"
   ]
  },
  {
   "cell_type": "code",
   "execution_count": null,
   "id": "076c009c",
   "metadata": {},
   "outputs": [],
   "source": [
    "y = rand(1000)\n",
    "s = Series(Mean(), Variance())\n",
    "fit!(s, y)"
   ]
  },
  {
   "cell_type": "markdown",
   "id": "ff692416",
   "metadata": {},
   "source": [
    "Group"
   ]
  },
  {
   "cell_type": "code",
   "execution_count": null,
   "id": "c29c029c",
   "metadata": {},
   "outputs": [],
   "source": [
    "g = Group(Mean(), CountMap(Bool))\n",
    "itr = zip(randn(100), rand(Bool, 100))\n",
    "fit!(g, itr)"
   ]
  },
  {
   "cell_type": "markdown",
   "id": "e68d70d4",
   "metadata": {},
   "source": [
    "GroupBy"
   ]
  },
  {
   "cell_type": "code",
   "execution_count": null,
   "id": "8583b971",
   "metadata": {},
   "outputs": [],
   "source": [
    "x = rand(Bool, 10^5)\n",
    "y = x .+ randn(10^5)\n",
    "fit!(GroupBy(Bool, Series(Mean(), Extrema())), zip(x,y))"
   ]
  },
  {
   "cell_type": "markdown",
   "id": "9e737d11",
   "metadata": {},
   "source": [
    "## FilterTransform\n",
    "\n",
    "Combine your aggregations with filters and transformations."
   ]
  },
  {
   "cell_type": "code",
   "execution_count": null,
   "id": "553c2cdc",
   "metadata": {},
   "outputs": [],
   "source": [
    "using OnlineStats: SkipMissing"
   ]
  },
  {
   "cell_type": "code",
   "execution_count": null,
   "id": "d93b0b44",
   "metadata": {},
   "outputs": [],
   "source": [
    "s = SkipMissing(Series(Mean(), Variance()))\n",
    "fit!(s, [-1, missing, 2, 1, 9])"
   ]
  },
  {
   "cell_type": "markdown",
   "id": "043a5d90",
   "metadata": {},
   "source": [
    "The generic case is handled with `FilterTransform`"
   ]
  },
  {
   "cell_type": "code",
   "execution_count": null,
   "id": "b8354dff",
   "metadata": {},
   "outputs": [],
   "source": [
    "using OnlineStats: FilterTransform"
   ]
  },
  {
   "cell_type": "code",
   "execution_count": null,
   "id": "35d6768a",
   "metadata": {},
   "outputs": [],
   "source": [
    "T = Union{Missing,Number}\n",
    "s = FilterTransform(Series(Mean(), Variance()), T, filter = !ismissing, transform = abs)\n",
    "fit!(s, [-1, missing, 2, 1, 9])"
   ]
  },
  {
   "cell_type": "markdown",
   "id": "facf41d6",
   "metadata": {},
   "source": [
    "alternative way of writing filter and transform expressions by using `=>`"
   ]
  },
  {
   "cell_type": "code",
   "execution_count": null,
   "id": "19af48c2",
   "metadata": {},
   "outputs": [],
   "source": [
    "o = FilterTransform(String => (x -> startswith(x, \"-\")) => (x -> parse(Int,x)) => Series(Mean(), Variance()))\n",
    "fit!(o, convert.(String, split(\"1,2,3,-1,4,-5,1,2,-3,-1,2,3\", \",\")))"
   ]
  },
  {
   "cell_type": "markdown",
   "id": "f1405848",
   "metadata": {},
   "source": [
    "For building failure-resistent pipelines remember that there is `TryCatch` "
   ]
  },
  {
   "cell_type": "code",
   "execution_count": null,
   "id": "eb86edb9",
   "metadata": {},
   "outputs": [],
   "source": [
    "using OnlineStats: TryCatch"
   ]
  },
  {
   "cell_type": "code",
   "execution_count": null,
   "id": "7752446c",
   "metadata": {},
   "outputs": [],
   "source": [
    "o = TryCatch(Mean())\n",
    "fit!(o, [1, missing, 3])\n",
    "o.errors"
   ]
  },
  {
   "cell_type": "code",
   "execution_count": null,
   "id": "045d0faa",
   "metadata": {},
   "outputs": [],
   "source": [
    "o.stat"
   ]
  },
  {
   "cell_type": "markdown",
   "id": "85a91f9e",
   "metadata": {},
   "source": [
    "## Weights\n",
    "\n",
    "Control how to react to changing data."
   ]
  },
  {
   "cell_type": "markdown",
   "id": "b7905cd3",
   "metadata": {},
   "source": [
    "![weight example gif](https://user-images.githubusercontent.com/8075494/57347308-d4d27d00-711f-11e9-8fbe-fc4523b96b48.gif)"
   ]
  },
  {
   "cell_type": "code",
   "execution_count": null,
   "id": "30b5ec41",
   "metadata": {},
   "outputs": [],
   "source": [
    "y = randn(100);"
   ]
  },
  {
   "cell_type": "code",
   "execution_count": null,
   "id": "6c2fd84c",
   "metadata": {},
   "outputs": [],
   "source": [
    "fit!(Mean(weight = ExponentialWeight(0.2)), y)"
   ]
  },
  {
   "cell_type": "code",
   "execution_count": null,
   "id": "7de5db55",
   "metadata": {},
   "outputs": [],
   "source": [
    "fit!(Mean(weight = x -> 0.2), y)"
   ]
  },
  {
   "cell_type": "code",
   "execution_count": null,
   "id": "3c2b2dfa",
   "metadata": {},
   "outputs": [],
   "source": [
    "fit!(Mean(weight = EqualWeight()), y)"
   ]
  },
  {
   "cell_type": "markdown",
   "id": "b0a70668",
   "metadata": {},
   "source": [
    "## 👈 your time: What is the function which makes for equal weights?"
   ]
  },
  {
   "cell_type": "code",
   "execution_count": null,
   "id": "a193dd98",
   "metadata": {},
   "outputs": [],
   "source": [
    "# your space\n",
    "\n",
    "# fit!(Mean(weight = x -> ...? ), y)"
   ]
  },
  {
   "cell_type": "markdown",
   "id": "a69ae1f1",
   "metadata": {},
   "source": [
    "[weight documentation](https://joshday.github.io/OnlineStats.jl/latest/weights/) (try a bit harder before you look up the solution)"
   ]
  },
  {
   "cell_type": "markdown",
   "id": "b1e705cd",
   "metadata": {},
   "source": [
    "---------\n",
    "\n",
    "Awesome. Now you are already capable of writing complex stream analysis pipelines!\n",
    "\n",
    "🎈Congratulations🎉"
   ]
  },
  {
   "cell_type": "markdown",
   "id": "7c724f39",
   "metadata": {},
   "source": [
    "# Visualizations\n",
    "\n",
    "Summarize your data beautifully with OnlineStats.jl."
   ]
  },
  {
   "cell_type": "markdown",
   "id": "356dd166",
   "metadata": {},
   "source": [
    "## Trace\n",
    "\n",
    "Record how your OnlineStat got fitted."
   ]
  },
  {
   "cell_type": "code",
   "execution_count": null,
   "id": "8afcf8c5",
   "metadata": {},
   "outputs": [],
   "source": [
    "y = range(1, 20, length=10^6) .* randn(10^6)\n",
    "o = Trace(Extrema())\n",
    "fit!(o, y)\n",
    "plot(o)"
   ]
  },
  {
   "cell_type": "markdown",
   "id": "a3e9d636",
   "metadata": {},
   "source": [
    "### 👈 your time: plot a trace with three different OnlineStats at once"
   ]
  },
  {
   "cell_type": "code",
   "execution_count": null,
   "id": "e8ca26d4",
   "metadata": {},
   "outputs": [],
   "source": [
    "# your space"
   ]
  },
  {
   "cell_type": "markdown",
   "id": "033a640b",
   "metadata": {},
   "source": [
    "<center title=\"use Series(Extreme, ...)\"><em>hover for a hint</em></center>"
   ]
  },
  {
   "cell_type": "markdown",
   "id": "e90dce11",
   "metadata": {},
   "source": [
    "## Histograms\n",
    "\n",
    "Summarize the distribution of your data."
   ]
  },
  {
   "cell_type": "code",
   "execution_count": null,
   "id": "e6fc51da",
   "metadata": {},
   "outputs": [],
   "source": [
    "s = fit!(Series(KHist(25), Hist(-5:.2:5), ExpandingHist(100), Ash(ExpandingHist(1000))), randn(10^6))\n",
    "plot(s, link = :x, label = [\"KHist\" \"Hist\" \"ExpandingHist\" \"Ash\"])"
   ]
  },
  {
   "cell_type": "code",
   "execution_count": null,
   "id": "1e8c9433",
   "metadata": {},
   "outputs": [],
   "source": [
    "?ExpandingHist"
   ]
  },
  {
   "cell_type": "markdown",
   "id": "e07ab27e",
   "metadata": {},
   "source": [
    "## Summarizing 2D"
   ]
  },
  {
   "cell_type": "markdown",
   "id": "f0eba401",
   "metadata": {},
   "source": [
    "#### Partition: 2D Nobs * continuous|categorical"
   ]
  },
  {
   "cell_type": "code",
   "execution_count": null,
   "id": "b403df2c",
   "metadata": {},
   "outputs": [],
   "source": [
    "y = cumsum(randn(10^6)) + 100randn(10^6)\n",
    "o = Partition(KHist(10), 50)\n",
    "fit!(o, y)\n",
    "plot(o)"
   ]
  },
  {
   "cell_type": "code",
   "execution_count": null,
   "id": "a352c55e",
   "metadata": {
    "scrolled": false
   },
   "outputs": [],
   "source": [
    "o = Partition(Series(Mean(), Extrema()), 50)\n",
    "fit!(o, y)\n",
    "plot(o)"
   ]
  },
  {
   "cell_type": "markdown",
   "id": "ab84eba2",
   "metadata": {},
   "source": [
    "works with categorical data too"
   ]
  },
  {
   "cell_type": "code",
   "execution_count": null,
   "id": "40a7573f",
   "metadata": {},
   "outputs": [],
   "source": [
    "y = [\n",
    "    rand([\"a\", \"a\", \"b\", \"c\"], 10^3)\n",
    "    rand([\"a\", \"b\", \"b\", \"d\"], 10^3)\n",
    "    rand([\"c\", \"b\", \"d\"], 10^3)\n",
    "]\n",
    "o = Partition(CountMap(String), 75)\n",
    "fit!(o, y)\n",
    "plot(o)"
   ]
  },
  {
   "cell_type": "markdown",
   "id": "f83df38b",
   "metadata": {},
   "source": [
    "#### IndexedPartition: 2D continuous * continuous|categorical\n",
    "\n",
    "The `Partition` type can only track the number of observations in the x-axis. If you wish to plot one variable against another, you can use an `IndexedPartition`.\n",
    "\n",
    "There is [OnlineStats.IndexedPartition](https://joshday.github.io/OnlineStats.jl/latest/dataviz/#Indexed-Partitions) and [OnlineStats.KIndexedPartition](https://joshday.github.io/OnlineStats.jl/latest/dataviz/#K-Indexed-Partitions). Both are very similar, see the documentation for details."
   ]
  },
  {
   "cell_type": "code",
   "execution_count": null,
   "id": "dfa9ff2e",
   "metadata": {},
   "outputs": [],
   "source": [
    "x = randn(10^6)\n",
    "y = x + randn(10^6)\n",
    "\n",
    "o = fit!(IndexedPartition(Float64, KHist(10), 50), zip(x, y))\n",
    "plot(o)"
   ]
  },
  {
   "cell_type": "code",
   "execution_count": null,
   "id": "3a9435e4",
   "metadata": {},
   "outputs": [],
   "source": [
    "x = [rand(10^3);      rand(10^3) .* 2]\n",
    "y = [rand(1:5, 10^3); rand([1, 1, 1, 2, 2], 10^3)]\n",
    "o = fit!(IndexedPartition(Float64, CountMap(Int), 50), zip(x,y))\n",
    "plot(o, xlab = \"X\", ylab = \"Y\")"
   ]
  },
  {
   "cell_type": "markdown",
   "id": "d2e7b475",
   "metadata": {},
   "source": [
    "#### Moasic: 2D categorical x categorical"
   ]
  },
  {
   "cell_type": "code",
   "execution_count": null,
   "id": "b187311a",
   "metadata": {},
   "outputs": [],
   "source": [
    "using RDatasets\n",
    "t = dataset(\"ggplot2\", \"diamonds\")\n",
    "o = Mosaic(eltype(t.Cut), eltype(t.Color))\n",
    "\n",
    "fit!(o, zip(t.Cut, t.Color))\n",
    "plot(o, legendtitle=\"Color\", xlabel=\"Cut\")"
   ]
  },
  {
   "cell_type": "markdown",
   "id": "b2870767",
   "metadata": {},
   "source": [
    "#### HeatMap: 2D continuous * continuous"
   ]
  },
  {
   "cell_type": "code",
   "execution_count": null,
   "id": "9aafdd00",
   "metadata": {},
   "outputs": [],
   "source": [
    "# activating standard Plots backend\n",
    "# for some reason the HeatMap does not work with plotlyjs()\n",
    "gr()\n",
    "\n",
    "nframes = 100\n",
    "o = HeatMap(-5:.2:5, 0:.2:10)  # xedges, yedges\n",
    "\n",
    "@gif for i in 1:nframes # for more animations see https://docs.juliaplots.org/latest/animations/ \n",
    "    x = randn(5i)\n",
    "    y = randexp(5i)\n",
    "    fit!(o, zip(x,y))\n",
    "    plot(o)\n",
    "end"
   ]
  },
  {
   "cell_type": "code",
   "execution_count": null,
   "id": "3140298d",
   "metadata": {
    "scrolled": true
   },
   "outputs": [],
   "source": [
    "plotlyjs()  # again back to plotlyjs"
   ]
  },
  {
   "cell_type": "markdown",
   "id": "50d45125",
   "metadata": {},
   "source": [
    "# Streaming and big data\n",
    "\n",
    "Streaming analytics can be used wherever normal analytics applies, but its unique advantage get's crystal clear when it comes to data which is too big to fit into memory."
   ]
  },
  {
   "cell_type": "markdown",
   "id": "035d5cc7",
   "metadata": {},
   "source": [
    "In this example, we'll calculate some statistics from a 55-Million row CSV file provided by kaggle. \n",
    "\n",
    "| Field | Description |\n",
    "| ----- | :---------- |\n",
    "| **key** | Unique string identifying each row in both the training and test sets. Comprised of pickup_datetime plus a unique integer, but this doesn't matter, it should just be used as a unique ID field. |\n",
    "| **pickup_datetime** | timestamp value indicating when the taxi ride started. |\n",
    "| **pickup_longitude** | float for longitude coordinate of where the taxi ride started. |\n",
    "| **pickup_latitude** | float for latitude coordinate of where the taxi ride started. |\n",
    "| **dropoff_longitude** | float for longitude coordinate of where the taxi ride ended. |\n",
    "| **dropoff_latitude** | float for latitude coordinate of where the taxi ride ended. |\n",
    "| **passenger_count** | integer indicating the number of passengers in the taxi ride. |\n",
    "| **fare_amount** | float dollar amount of the cost of the taxi ride. This value is only in the training set; this is what you are predicting in the test set. |\n",
    "\n",
    "[kaggle data description](https://www.kaggle.com/c/new-york-city-taxi-fare-prediction/data)"
   ]
  },
  {
   "cell_type": "code",
   "execution_count": null,
   "id": "c7b948d0",
   "metadata": {},
   "outputs": [],
   "source": [
    "run(`kaggle competitions download -c new-york-city-taxi-fare-prediction -p data/`)"
   ]
  },
  {
   "cell_type": "code",
   "execution_count": null,
   "id": "35a0f3f4",
   "metadata": {},
   "outputs": [],
   "source": [
    "run(`unzip data/new-york-city-taxi-fare-prediction.zip -d data/`)  # takes about 1 minute"
   ]
  },
  {
   "cell_type": "code",
   "execution_count": null,
   "id": "122244db",
   "metadata": {},
   "outputs": [],
   "source": [
    "; ls -l -h data"
   ]
  },
  {
   "cell_type": "markdown",
   "id": "4d9689cf",
   "metadata": {},
   "source": [
    "This CSV is already too big to be loaded into memory on most machines. Still we can work with it with OnlineStats.jl without any problem"
   ]
  },
  {
   "cell_type": "code",
   "execution_count": null,
   "id": "75d7ecde",
   "metadata": {},
   "outputs": [],
   "source": [
    "using CSV"
   ]
  },
  {
   "cell_type": "markdown",
   "id": "91a3c980",
   "metadata": {},
   "source": [
    "[CSV documentation](https://csv.juliadata.org/stable/)\n",
    "> CSV.Rows: an alternative approach for consuming delimited data, where the input is only consumed one row at a time, which allows \"streaming\" the data with a lower memory footrpint than CSV.File.\n",
    "\n",
    "This enables us to read too big CSV files with ease:"
   ]
  },
  {
   "cell_type": "code",
   "execution_count": null,
   "id": "d4e15090",
   "metadata": {},
   "outputs": [],
   "source": [
    "@btime sum(1 for row in CSV.Rows(\"data/train.csv\", reusebuffer=true, limit=1000000))"
   ]
  },
  {
   "cell_type": "code",
   "execution_count": null,
   "id": "9013073c",
   "metadata": {},
   "outputs": [],
   "source": [
    "@btime begin\n",
    "    c = Counter(CSV.Row2)\n",
    "    rows = CSV.Rows(\"data/train.csv\", reusebuffer=true, limit=1000000)\n",
    "    fit!(c, rows)\n",
    "end"
   ]
  },
  {
   "cell_type": "code",
   "execution_count": null,
   "id": "e0015925",
   "metadata": {},
   "outputs": [],
   "source": [
    "@btime begin\n",
    "    c = Counter(CSV.Row)\n",
    "    rows = CSV.File(\"data/train.csv\", limit=1000000)\n",
    "    fit!(c, rows)\n",
    "end"
   ]
  },
  {
   "cell_type": "code",
   "execution_count": null,
   "id": "966ee6d5",
   "metadata": {},
   "outputs": [],
   "source": [
    "@btime begin\n",
    "    m = Mean()\n",
    "    rows = CSV.Rows(\"data/train.csv\", reusebuffer=true, limit=1000000)\n",
    "    itr = (parse(Int64, r.passenger_count) for r in rows)\n",
    "    fit!(m, itr)\n",
    "end"
   ]
  },
  {
   "cell_type": "code",
   "execution_count": null,
   "id": "b53c615f",
   "metadata": {},
   "outputs": [],
   "source": [
    "@btime begin\n",
    "    m = Mean()\n",
    "    rows = CSV.File(\"data/train.csv\", limit=1000000)\n",
    "    itr = (r.passenger_count for r in rows)\n",
    "    fit!(m, itr)\n",
    "end"
   ]
  },
  {
   "cell_type": "markdown",
   "id": "c8370679",
   "metadata": {},
   "source": [
    "## 👈 your time: Run another OnlineStat over the file\n",
    "\n",
    "you can be creative (you don't need to use `@btime` - it slows things down)"
   ]
  },
  {
   "cell_type": "code",
   "execution_count": null,
   "id": "4981dce2",
   "metadata": {},
   "outputs": [],
   "source": [
    "# your space"
   ]
  },
  {
   "cell_type": "markdown",
   "id": "63159759",
   "metadata": {},
   "source": [
    "-------------\n",
    "\n",
    "Let's finish with a slightly more complex statistics."
   ]
  },
  {
   "cell_type": "code",
   "execution_count": null,
   "id": "1dbd360b",
   "metadata": {},
   "outputs": [],
   "source": [
    "rows = CSV.Rows(\"data/train.csv\", reusebuffer=true)\n",
    "itr = (convert(String, row.passenger_count) => parse(Float64, row.fare_amount) for row in rows)\n",
    "collect(take(itr, 10))"
   ]
  },
  {
   "cell_type": "code",
   "execution_count": null,
   "id": "91b69196",
   "metadata": {},
   "outputs": [],
   "source": [
    "o = GroupBy(String, Hist(0.0:100))\n",
    "fit!(o, take(itr, 1000000))\n",
    "\n",
    "sort!(o)\n",
    "plots = [plot(o.value[key], title=\"#passenger = $key\") for key in keys(o.value)]\n",
    "plot(plots..., link = :all, legend = false, yticks = false, titlefont = font(10), plot_title = \"Distribution of taxi price\")"
   ]
  },
  {
   "cell_type": "markdown",
   "id": "4ee31392",
   "metadata": {},
   "source": [
    "## Distributed"
   ]
  },
  {
   "cell_type": "code",
   "execution_count": null,
   "id": "44fa6f11",
   "metadata": {},
   "outputs": [],
   "source": [
    "using Distributed\n",
    "addprocs(2)\n",
    "@everywhere using OnlineStats\n",
    "nprocs()"
   ]
  },
  {
   "cell_type": "markdown",
   "id": "12d7e143",
   "metadata": {},
   "source": [
    "![comparing squential vs parallel](https://user-images.githubusercontent.com/8075494/57345083-95079780-7117-11e9-81bf-71b0469f04c7.png)"
   ]
  },
  {
   "cell_type": "markdown",
   "id": "ae3e2594",
   "metadata": {},
   "source": [
    "Simplified (Not Actually in Parallel)"
   ]
  },
  {
   "cell_type": "code",
   "execution_count": null,
   "id": "dd53d876",
   "metadata": {},
   "outputs": [],
   "source": [
    "y1 = randn(10_000)\n",
    "y2 = randn(10_000)\n",
    "y3 = randn(10_000)\n",
    "\n",
    "a = Series(Mean(), Variance(), KHist(20))\n",
    "b = Series(Mean(), Variance(), KHist(20))\n",
    "c = Series(Mean(), Variance(), KHist(20))\n",
    "\n",
    "fit!(a, y1)\n",
    "fit!(b, y2)\n",
    "fit!(c, y3)\n",
    "\n",
    "merge!(a, b)  # merge `b` into `a`\n",
    "merge!(a, c)  # merge `c` into `a`"
   ]
  },
  {
   "cell_type": "markdown",
   "id": "9e656349",
   "metadata": {},
   "source": [
    "In Parallel"
   ]
  },
  {
   "cell_type": "code",
   "execution_count": null,
   "id": "d2923abb",
   "metadata": {},
   "outputs": [],
   "source": [
    "s = @btime @distributed merge for i in 1:3\n",
    "    o = Series(Mean(), Variance(), KHist(20))\n",
    "    fit!(o, randn(10_000))\n",
    "end"
   ]
  },
  {
   "cell_type": "markdown",
   "id": "0dd30a6d",
   "metadata": {},
   "source": [
    "## 👈 your time: @btime a sequential version\n",
    "\n",
    "little extra: write so that we can easily increase the for loop from `1:3` to `1:15` in order to compare different data sizes."
   ]
  },
  {
   "cell_type": "code",
   "execution_count": null,
   "id": "a7c7bc36",
   "metadata": {},
   "outputs": [],
   "source": [
    "# your space"
   ]
  },
  {
   "cell_type": "markdown",
   "id": "e4aac45e",
   "metadata": {},
   "source": [
    "**Note about the benchmark:** On binder there is not much of a difference. On my local computer, I get a 2x speedup."
   ]
  },
  {
   "cell_type": "markdown",
   "id": "5765931b",
   "metadata": {},
   "source": [
    "# Machine learning"
   ]
  },
  {
   "cell_type": "markdown",
   "id": "44265873",
   "metadata": {},
   "source": [
    "## Confidence Interval Estimation - Bootstrapping\n",
    "\n",
    "Bootstrapping is a nonparametric method to estimate confidence intervals on arbitrary statistics. See [bootstrapping on wikipedia](https://en.wikipedia.org/wiki/Bootstrapping_(statistics)) for more details."
   ]
  },
  {
   "cell_type": "code",
   "execution_count": null,
   "id": "3b97a1a2",
   "metadata": {},
   "outputs": [],
   "source": [
    "o = Bootstrap(Variance())\n",
    "fit!(o, randn(1000))\n",
    "confint(o, .95)"
   ]
  },
  {
   "cell_type": "markdown",
   "id": "7cb6c66d",
   "metadata": {},
   "source": [
    "### 👈 your time: Get the confidence interval for another statistic"
   ]
  },
  {
   "cell_type": "code",
   "execution_count": null,
   "id": "1d02f17a",
   "metadata": {},
   "outputs": [],
   "source": [
    "# your space"
   ]
  },
  {
   "cell_type": "markdown",
   "id": "8f301d59",
   "metadata": {},
   "source": [
    "## TimeSeries"
   ]
  },
  {
   "cell_type": "code",
   "execution_count": null,
   "id": "0e92ef9b",
   "metadata": {},
   "outputs": [],
   "source": [
    "y = cumsum(randn(100))\n",
    "o = AutoCov(5)\n",
    "fit!(o, y)\n",
    "autocov(o)\n",
    "autocor(o)"
   ]
  },
  {
   "cell_type": "markdown",
   "id": "96f248af",
   "metadata": {},
   "source": [
    "## Unsupervised Learning"
   ]
  },
  {
   "cell_type": "markdown",
   "id": "7610d9ef",
   "metadata": {},
   "source": [
    "#### Covariance"
   ]
  },
  {
   "cell_type": "code",
   "execution_count": null,
   "id": "9f866035",
   "metadata": {},
   "outputs": [],
   "source": [
    "o = fit!(CovMatrix(), randn(100, 4) |> eachrow)\n",
    "plot(o, yflip=true)"
   ]
  },
  {
   "cell_type": "markdown",
   "id": "6364b82b",
   "metadata": {},
   "source": [
    "#### KMeans"
   ]
  },
  {
   "cell_type": "code",
   "execution_count": null,
   "id": "2e2e369a",
   "metadata": {},
   "outputs": [],
   "source": [
    "x = [randn() + 5i for i in rand(Bool, 10^6), j in 1:2]\n",
    "o = fit!(KMeans(2), eachrow(x)) \n",
    "sort!(o; rev=true)  # Order clusters by number of observations"
   ]
  },
  {
   "cell_type": "markdown",
   "id": "b0a35091",
   "metadata": {},
   "source": [
    "#### Online PCA"
   ]
  },
  {
   "cell_type": "code",
   "execution_count": null,
   "id": "b3bf8526",
   "metadata": {},
   "outputs": [],
   "source": [
    "# Project 10-dimensional vectors into 2D\n",
    "o = CCIPCA(2, 10)"
   ]
  },
  {
   "cell_type": "code",
   "execution_count": null,
   "id": "7d3d4a5b",
   "metadata": {},
   "outputs": [],
   "source": [
    "u1 = rand(10)\n",
    "fit!(o, u1)\n",
    "u2 = rand(10)\n",
    "fit!(o, u2)"
   ]
  },
  {
   "cell_type": "code",
   "execution_count": null,
   "id": "8f76519a",
   "metadata": {},
   "outputs": [],
   "source": [
    "# Project u3 into PCA space fitted to u1 and u2 but don't change the projection\n",
    "u3 = rand(10)\n",
    "OnlineStats.transform(o, u3)"
   ]
  },
  {
   "cell_type": "code",
   "execution_count": null,
   "id": "5a303dda",
   "metadata": {},
   "outputs": [],
   "source": [
    "# Fit u4 and then project u4 into the space\n",
    "u4 = rand(10)\n",
    "OnlineStats.fittransform!(o, u4)"
   ]
  },
  {
   "cell_type": "code",
   "execution_count": null,
   "id": "fa649e46",
   "metadata": {},
   "outputs": [],
   "source": [
    "# Sort from high to low eigenvalues\n",
    "sort!(o)"
   ]
  },
  {
   "cell_type": "code",
   "execution_count": null,
   "id": "4a9f2d5c",
   "metadata": {},
   "outputs": [],
   "source": [
    "# Get primary (1st) eigenvector\n",
    "o[1]"
   ]
  },
  {
   "cell_type": "code",
   "execution_count": null,
   "id": "28b35fc6",
   "metadata": {},
   "outputs": [],
   "source": [
    "# Get the variation (explained) \"by\" each eigenvector\n",
    "OnlineStats.relativevariances(o)"
   ]
  },
  {
   "cell_type": "markdown",
   "id": "d7531c78",
   "metadata": {},
   "source": [
    "## Supervised Learning"
   ]
  },
  {
   "cell_type": "markdown",
   "id": "1b0fe174",
   "metadata": {},
   "source": [
    "#### Linear regression"
   ]
  },
  {
   "cell_type": "code",
   "execution_count": null,
   "id": "cb3a6388",
   "metadata": {},
   "outputs": [],
   "source": [
    "x = randn(100, 5)\n",
    "y = x * (1:5) + randn(100)\n",
    "o = fit!(LinReg(), zip(eachrow(x),y))\n",
    "coef(o)"
   ]
  },
  {
   "cell_type": "code",
   "execution_count": null,
   "id": "e5ed881a",
   "metadata": {},
   "outputs": [],
   "source": [
    "@show test = randn(5)\n",
    "predict(o, test)"
   ]
  },
  {
   "cell_type": "markdown",
   "id": "fca3e115",
   "metadata": {},
   "source": [
    "#### Trees and Forests"
   ]
  },
  {
   "cell_type": "code",
   "execution_count": null,
   "id": "c4d90244",
   "metadata": {},
   "outputs": [],
   "source": [
    "x = randn(10^5, 10)\n",
    "y = rand([1,2], 10^5)\n",
    "o = fit!(FastTree(10), zip(eachrow(x),y))\n",
    "xi = randn(10)\n",
    "classify(o, xi)"
   ]
  },
  {
   "cell_type": "code",
   "execution_count": null,
   "id": "a35aa929",
   "metadata": {},
   "outputs": [],
   "source": [
    "x, y = randn(10^5, 10), rand(1:2, 10^5)\n",
    "o = fit!(FastForest(10), zip(eachrow(x),y))\n",
    "classify(o, x[1,:])"
   ]
  },
  {
   "cell_type": "markdown",
   "id": "82e186c8",
   "metadata": {},
   "source": [
    "#### Naive Bayes Classifier"
   ]
  },
  {
   "cell_type": "code",
   "execution_count": null,
   "id": "21810034",
   "metadata": {},
   "outputs": [],
   "source": [
    "# make data\n",
    "x = randn(10^6, 5)\n",
    "y = x * [1,3,5,7,9] .> 0\n",
    "\n",
    "o = NBClassifier(5, Bool)  # 5 predictors with Boolean categories\n",
    "fit!(o, zip(eachrow(x), y))\n",
    "plot(o, titlefont=font(10), label=[\"false\" \"true\"])"
   ]
  },
  {
   "cell_type": "markdown",
   "id": "6a3563ae",
   "metadata": {},
   "source": [
    "#### 👈 your time: predict and classify with our NBClassifier"
   ]
  },
  {
   "cell_type": "code",
   "execution_count": null,
   "id": "df5a2be5",
   "metadata": {},
   "outputs": [],
   "source": [
    "# your space"
   ]
  },
  {
   "cell_type": "markdown",
   "id": "0017504e",
   "metadata": {},
   "source": [
    "#### StatLearn\n",
    "\n",
    "A flexible mini framework for online learning of machine learning model via stochatics approximations. Many different models can be represented, e.g. LASSO regression.\n",
    "\n",
    "Please consult the [documentation](https://joshday.github.io/OnlineStats.jl/latest/ml/) for more information and examples."
   ]
  },
  {
   "cell_type": "markdown",
   "id": "5a9cb151",
   "metadata": {},
   "source": [
    "# Thank you for joining today!"
   ]
  },
  {
   "cell_type": "markdown",
   "id": "b578c394",
   "metadata": {},
   "source": [
    "As always, you are welcome to reach out if you have questions.\n",
    "\n",
    "stephan.sahm@juliaperformance.com, now CEO of JuliaPerformance"
   ]
  },
  {
   "cell_type": "markdown",
   "id": "17db08c9",
   "metadata": {},
   "source": [
    "![](https://www.juliaperformance.com/assets/JuliaPerformance/banner-clouds.jpg)\n",
    "<center><br></center>\n",
    "<center><a href=\"www.juliaperformance.com\">www.juliaperformance.com</a></center>\n",
    "<center><em>making Julia the standard</em></center>"
   ]
  }
 ],
 "metadata": {
  "kernelspec": {
   "display_name": "Julia 1.6.1",
   "language": "julia",
   "name": "julia-1.6"
  },
  "language_info": {
   "file_extension": ".jl",
   "mimetype": "application/julia",
   "name": "julia",
   "version": "1.6.1"
  }
 },
 "nbformat": 4,
 "nbformat_minor": 5
}
