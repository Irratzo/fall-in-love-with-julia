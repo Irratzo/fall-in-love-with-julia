{
 "cells": [
  {
   "cell_type": "markdown",
   "metadata": {},
   "source": [
    "[![Binder](https://mybinder.org/badge_logo.svg)](https://mybinder.org/v2/gh/schlichtanders/fall-in-love-with-julia/main?filepath=04%20differential%20equations%20-%2002%20stochastic.ipynb)"
   ]
  },
  {
   "cell_type": "markdown",
   "metadata": {},
   "source": [
    "# Stochastic Differential Equations (SDE)\r\n",
    "\r\n",
    "This tutorial will introduce you to the functionality for solving SDEs."
   ]
  },
  {
   "cell_type": "markdown",
   "metadata": {},
   "source": [
    "\r\n",
    "# Example 1: Scalar SDEs\r\n",
    "\r\n",
    "In this example we will solve the equation\r\n",
    "\r\n",
    "$$du = f(u,p,t)dt + g(u,p,t)dW$$\r\n",
    "\r\n",
    "where $f(u,p,t)=αu$ and $g(u,p,t)=βu$. We know via Stochastic Calculus that the solution to this equation is\r\n",
    "\r\n",
    "$$u(t,Wₜ)=u₀\\exp((α-\\frac{β^2}{2})t+βWₜ)$$\r\n",
    "\r\n",
    "To solve this numerically, we define a problem type by giving it the equation and the initial condition:"
   ]
  },
  {
   "cell_type": "code",
   "execution_count": null,
   "metadata": {},
   "outputs": [],
   "source": [
    "using DifferentialEquations\r\n",
    "α=1\r\n",
    "β=1\r\n",
    "u₀=1/2\r\n",
    "f(u,p,t) = α*u\r\n",
    "g(u,p,t) = β*u\r\n",
    "dt = 1//2^(4)\r\n",
    "tspan = (0.0,1.0)\r\n",
    "prob = SDEProblem(f,g,u₀,(0.0,1.0))"
   ]
  },
  {
   "cell_type": "markdown",
   "metadata": {},
   "source": [
    "The solve interface is then the same as with ODEs. Here we will use the classic Euler-Maruyama algorithm EM and plot the solution:"
   ]
  },
  {
   "cell_type": "code",
   "execution_count": null,
   "metadata": {},
   "outputs": [],
   "source": [
    "using Plots; plotly() # Using the Plotly backend\r\n",
    "\r\n",
    "sol = solve(prob,EM(),dt=dt)\r\n",
    "plot(sol)"
   ]
  },
  {
   "cell_type": "markdown",
   "metadata": {},
   "source": [
    "## Using Higher Order Methods\r\n",
    "\r\n",
    "One unique feature of DifferentialEquations.jl is that higher-order methods for stochastic differential equations are included. For reference, let's also give the SDEProblem the analytical solution. We can do this by making a test problem. This can be a good way to judge how accurate the algorithms are, or is used to test convergence of the algorithms for methods developers. Thus we define the problem object with:"
   ]
  },
  {
   "cell_type": "code",
   "execution_count": null,
   "metadata": {},
   "outputs": [],
   "source": [
    "f_analytic(u₀,p,t,W) = u₀*exp((α-(β^2)/2)*t+β*W)\r\n",
    "ff = SDEFunction(f,g,analytic=f_analytic)\r\n",
    "prob = SDEProblem(ff,g,u₀,(0.0,1.0))"
   ]
  },
  {
   "cell_type": "markdown",
   "metadata": {},
   "source": [
    "and then we pass this information to the solver and plot:"
   ]
  },
  {
   "cell_type": "code",
   "execution_count": null,
   "metadata": {},
   "outputs": [],
   "source": [
    "# We can plot using the classic Euler-Maruyama algorithm as follows:\r\n",
    "sol = solve(prob,EM(),dt=dt)\r\n",
    "plot(sol,plot_analytic=true)"
   ]
  },
  {
   "cell_type": "markdown",
   "metadata": {},
   "source": [
    "We can choose a higher-order solver for a more accurate result, here `SRIW1`.\r\n",
    "\r\n",
    "If `dt` is not given, the solver will automatically determine a starting ``dt``. This estimate at the beginning is conservative (small) to ensure accuracy. We can instead start the method with a larger ``dt`` by passing in a value for the starting ``dt``."
   ]
  },
  {
   "cell_type": "code",
   "execution_count": null,
   "metadata": {},
   "outputs": [],
   "source": [
    "sol = solve(prob, SRIW1(), dt=dt)\r\n",
    "plot(sol, plot_analytic=true)"
   ]
  },
  {
   "cell_type": "markdown",
   "metadata": {},
   "source": [
    "## Ensemble Simulations\r\n",
    "\r\n",
    "Instead of solving single trajectories, we can turn our problem into a ``EnsembleProblem`` to solve many trajectories all at once. This is done by the ``EnsembleProblem`` constructor:"
   ]
  },
  {
   "cell_type": "code",
   "execution_count": null,
   "metadata": {},
   "outputs": [],
   "source": [
    "ensembleprob = EnsembleProblem(prob)"
   ]
  },
  {
   "cell_type": "markdown",
   "metadata": {},
   "source": [
    "The solver commands are defined [at the Parallel Ensemble Simulations page](https://diffeq.sciml.ai/stable/features/ensemble/#ensemble). For example we can choose to have 1000 trajectories via ``trajectories=1000``. In addition, this will automatically parallelize using Julia native parallelism if extra processes are added via ``addprocs()``, but we can change this to use multithreading via ``EnsembleThreads()``. Together, this looks like:"
   ]
  },
  {
   "cell_type": "code",
   "execution_count": null,
   "metadata": {},
   "outputs": [],
   "source": [
    "sol = solve(ensembleprob,EnsembleThreads(),trajectories=1000)"
   ]
  },
  {
   "cell_type": "markdown",
   "metadata": {},
   "source": [
    "Many more controls are defined at the [Ensemble simulations page](https://diffeq.sciml.ai/stable/features/ensemble/#ensemble), including analysis tools. A very simple analysis can be done with the ``EnsembleSummary``, which builds mean/var statistics and has an associated plot recipe. For example, we can get the statistics at every ``0.01`` timesteps and plot the average + error using:"
   ]
  },
  {
   "cell_type": "code",
   "execution_count": null,
   "metadata": {},
   "outputs": [],
   "source": [
    "using DifferentialEquations.EnsembleAnalysis\r\n",
    "summ = EnsembleSummary(sol,0:0.01:1)\r\n",
    "plot(summ,labels=\"Middle 95%\")\r\n",
    "summ = EnsembleSummary(sol,0:0.01:1;quantiles=[0.25,0.75])\r\n",
    "plot!(summ,labels=\"Middle 50%\",legend=true)"
   ]
  },
  {
   "cell_type": "markdown",
   "metadata": {},
   "source": [
    "Additionally we can easily calculate the correlation between the values at ``t=0.2`` and ``t=0.7`` via"
   ]
  },
  {
   "cell_type": "code",
   "execution_count": null,
   "metadata": {},
   "outputs": [],
   "source": [
    "timepoint_meancor(sol, 0.2,0.7) # Gives both means and then the correlation coefficient"
   ]
  },
  {
   "cell_type": "code",
   "execution_count": null,
   "metadata": {},
   "outputs": [],
   "source": [
    "timeseries_point_mean(sol, [0.2, 0.3, 0.5])"
   ]
  },
  {
   "cell_type": "markdown",
   "metadata": {},
   "source": [
    "# Example 2: Systems of SDEs with Diagonal Noise\r\n",
    "\r\n",
    "More generally, an SDE\r\n",
    "\r\n",
    "$$du = f(u,p,t)dt + g(u,p,t)dW$$\r\n",
    "\r\n",
    "generalizes to systems of equations is done in the same way as ODEs. Here, g is now a matrix of values. One common case, and the default for DifferentialEquations.jl, is diagonal noise where ``g`` is a diagonal matrix. This means that every function in the system gets a different random number. Instead of handling matrices in this case, we simply define both ``f`` and ``g`` as in-place functions. Thus ``f(du,u,p,t)`` gives a vector of ``du`` which is the deterministic change, and ``g(du2,u,p,t)`` gives a vector ``du2`` for which ``du2.*W`` is the stochastic portion of the equation.\r\n",
    "\r\n",
    "For example, the Lorenz equation with additive noise has the same deterministic portion as the Lorenz equations, but adds an additive noise, which is simply ``3*N(0,dt)`` where ``N`` is the normal distribution dt is the time step, to each step of the equation. This is done via:"
   ]
  },
  {
   "cell_type": "code",
   "execution_count": null,
   "metadata": {},
   "outputs": [],
   "source": [
    "function lorenz(du,u,p,t)\r\n",
    "  du[1] = 10.0(u[2]-u[1])\r\n",
    "  du[2] = u[1]*(28.0-u[3]) - u[2]\r\n",
    "  du[3] = u[1]*u[2] - (8/3)*u[3]\r\n",
    "end\r\n",
    "\r\n",
    "function σ_lorenz(du,u,p,t)\r\n",
    "  du[1] = 3.0\r\n",
    "  du[2] = 3.0\r\n",
    "  du[3] = 3.0\r\n",
    "end\r\n",
    "\r\n",
    "prob_sde_lorenz = SDEProblem(lorenz,σ_lorenz,[1.0,0.0,0.0],(0.0,10.0))\r\n",
    "sol = solve(prob_sde_lorenz)\r\n",
    "plot(sol,vars=(1,2,3))"
   ]
  },
  {
   "cell_type": "markdown",
   "metadata": {},
   "source": [
    "Note that it's okay for the noise function to mix terms. For example"
   ]
  },
  {
   "cell_type": "code",
   "execution_count": null,
   "metadata": {},
   "outputs": [],
   "source": [
    "function σ_lorenz(du,u,p,t)\r\n",
    "  du[1] = sin(u[3])*3.0\r\n",
    "  du[2] = u[2]*u[1]*3.0\r\n",
    "  du[3] = 3.0\r\n",
    "end\r\n",
    "\r\n",
    "prob_sde_lorenz = SDEProblem(lorenz,σ_lorenz,[1.0,0.0,0.0],(0.0,10.0))\r\n",
    "sol = solve(prob_sde_lorenz)\r\n",
    "plot(sol,vars=(1,2,3))"
   ]
  },
  {
   "cell_type": "markdown",
   "metadata": {},
   "source": [
    "# Example 3: Spatially-Colored Noise in the Heston Model\r\n",
    "\r\n",
    "Colored noise can be defined using the [Noise Process interface](https://diffeq.sciml.ai/stable/features/noise_process/#noise_process). In that portion of the docs, it is shown how to define your own noise process ``my_noise``, which can be passed to the SDEProblem\r\n",
    "\r\n",
    "```julia\r\n",
    "SDEProblem(f,g,u0,tspan,noise=my_noise)\r\n",
    "```\r\n",
    "\r\n",
    "Note that general colored noise problems are only compatible with the ``EM`` and ``EulerHeun`` methods. This is discussed in the [SDE solvers page](https://diffeq.sciml.ai/stable/solvers/sde_solve/#sde_solve)."
   ]
  },
  {
   "cell_type": "markdown",
   "metadata": {},
   "source": [
    "Let's define the Heston equation from financial mathematics:\r\n",
    "\r\n",
    "$$dS = μSdt + \\sqrt{v}SdW_1 \\\\ dv = κ(Θ-v)dt + σ\\sqrt{v}dW_2 \\\\ dW_1 dW_2 = ρ dt$$\r\n",
    "\r\n",
    "In this problem, we have a diagonal noise problem given by:"
   ]
  },
  {
   "cell_type": "code",
   "execution_count": null,
   "metadata": {},
   "outputs": [],
   "source": [
    "function f(du,u,p,t)\r\n",
    "  du[1] = μ*u[1]\r\n",
    "  du[2] = κ*(Θ-u[2])\r\n",
    "end\r\n",
    "function g(du,u,p,t)\r\n",
    "  du[1] = √u[2]*u[1]\r\n",
    "  du[2] = Θ*√u[2]\r\n",
    "end"
   ]
  },
  {
   "cell_type": "markdown",
   "metadata": {},
   "source": [
    "However, our noise has a correlation matrix for some constant ``ρ``."
   ]
  },
  {
   "cell_type": "code",
   "execution_count": null,
   "metadata": {},
   "outputs": [],
   "source": [
    "ρ = 0.2\r\n",
    "Γ = [1 ρ;ρ 1]"
   ]
  },
  {
   "cell_type": "markdown",
   "metadata": {},
   "source": [
    "To solve this, we can define a ``CorrelatedWienerProcess`` which starts at zero ``(W(0)=0)`` via:"
   ]
  },
  {
   "cell_type": "code",
   "execution_count": null,
   "metadata": {},
   "outputs": [],
   "source": [
    "heston_noise = CorrelatedWienerProcess!(Γ,tspan[1],zeros(2),zeros(2))"
   ]
  },
  {
   "cell_type": "markdown",
   "metadata": {},
   "source": [
    "This is then used to build the SDE:\r\n",
    "```julia\r\n",
    "SDEProblem(f,g,u0,tspan,noise=heston_noise)\r\n",
    "```\r\n",
    "Of course, to fully define this problem we need to define our constants. Constructors for making common models like this easier to define can be found in the modeling toolkits. For example, the ``HestonProblem`` is pre-defined as part of the [financial modeling tools](https://diffeq.sciml.ai/stable/models/financial/#financial_models)."
   ]
  }
 ],
 "metadata": {
  "kernelspec": {
   "display_name": "Julia 1.6.1",
   "language": "julia",
   "name": "julia-1.6"
  },
  "language_info": {
   "name": "julia",
   "version": ""
  },
  "orig_nbformat": 2
 },
 "nbformat": 4,
 "nbformat_minor": 2
}